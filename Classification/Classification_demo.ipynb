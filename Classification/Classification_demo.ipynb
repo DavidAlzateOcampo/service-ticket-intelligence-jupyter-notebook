{
 "cells": [
  {
   "cell_type": "markdown",
   "metadata": {},
   "source": [
    "# Classification Demo\n",
    "\n",
    "In this notebook, we will see how to prepare the data for classification, upload the data, start training and do inference."
   ]
  },
  {
   "cell_type": "markdown",
   "metadata": {},
   "source": [
    "### Install pyjwt library if not already installed"
   ]
  },
  {
   "cell_type": "code",
   "execution_count": 53,
   "metadata": {},
   "outputs": [
    {
     "name": "stdout",
     "output_type": "stream",
     "text": [
      "Requirement already satisfied: pyjwt in /Users/i516065/opt/anaconda3/lib/python3.7/site-packages (1.7.1)\r\n"
     ]
    }
   ],
   "source": [
    "!pip install pyjwt"
   ]
  },
  {
   "cell_type": "code",
   "execution_count": 54,
   "metadata": {},
   "outputs": [
    {
     "name": "stdout",
     "output_type": "stream",
     "text": [
      "The autoreload extension is already loaded. To reload it, use:\n",
      "  %reload_ext autoreload\n"
     ]
    }
   ],
   "source": [
    "import os\n",
    "import pandas as pd\n",
    "import numpy as np\n",
    "from sklearn.model_selection import train_test_split\n",
    "from sklearn.metrics import confusion_matrix\n",
    "%matplotlib inline\n",
    "import matplotlib.pyplot as plt\n",
    "import jwt\n",
    "import time\n",
    "import json\n",
    "\n",
    "%load_ext autoreload\n",
    "%autoreload 2"
   ]
  },
  {
   "cell_type": "code",
   "execution_count": 55,
   "metadata": {},
   "outputs": [],
   "source": [
    "import requests\n",
    "import base64"
   ]
  },
  {
   "cell_type": "markdown",
   "metadata": {},
   "source": [
    "## Prepare training and test data\n",
    "\n",
    "We have a small dataset of service request tickets on complaints received about financial products and services. We will attempt to build a classifier which automatically classifies these tickets into their respective categories."
   ]
  },
  {
   "cell_type": "markdown",
   "metadata": {},
   "source": [
    "The below code block loads the data from file"
   ]
  },
  {
   "cell_type": "code",
   "execution_count": 56,
   "metadata": {},
   "outputs": [],
   "source": [
    "df = pd.read_csv(\"../datasets/complaint_clean.csv\")"
   ]
  },
  {
   "cell_type": "markdown",
   "metadata": {},
   "source": [
    "### Let's see the data"
   ]
  },
  {
   "cell_type": "code",
   "execution_count": 57,
   "metadata": {
    "scrolled": true
   },
   "outputs": [
    {
     "data": {
      "text/html": [
       "<div>\n",
       "<style scoped>\n",
       "    .dataframe tbody tr th:only-of-type {\n",
       "        vertical-align: middle;\n",
       "    }\n",
       "\n",
       "    .dataframe tbody tr th {\n",
       "        vertical-align: top;\n",
       "    }\n",
       "\n",
       "    .dataframe thead th {\n",
       "        text-align: right;\n",
       "    }\n",
       "</style>\n",
       "<table border=\"1\" class=\"dataframe\">\n",
       "  <thead>\n",
       "    <tr style=\"text-align: right;\">\n",
       "      <th></th>\n",
       "      <th>Product</th>\n",
       "      <th>Sub-product</th>\n",
       "      <th>Issue</th>\n",
       "      <th>Sub-issue</th>\n",
       "      <th>Description</th>\n",
       "      <th>TicketID</th>\n",
       "    </tr>\n",
       "  </thead>\n",
       "  <tbody>\n",
       "    <tr>\n",
       "      <th>0</th>\n",
       "      <td>Credit reporting, credit repair services, or o...</td>\n",
       "      <td>Other personal consumer report</td>\n",
       "      <td>Improper use of your report</td>\n",
       "      <td>Reporting company used your report improperly</td>\n",
       "      <td>On   XXXX   XXXX   XXXX     2015 Barclays Ba n...</td>\n",
       "      <td>8f634167-1466-41b6-903e-ae8406d95232</td>\n",
       "    </tr>\n",
       "    <tr>\n",
       "      <th>1</th>\n",
       "      <td>Debt collection</td>\n",
       "      <td>Credit card</td>\n",
       "      <td>Communication tactics</td>\n",
       "      <td>Frequent or repeated calls</td>\n",
       "      <td>I have been receiving numerous calls from Sync...</td>\n",
       "      <td>863efe9f-1452-431e-a5e7-f1756489ec69</td>\n",
       "    </tr>\n",
       "    <tr>\n",
       "      <th>2</th>\n",
       "      <td>Student loan</td>\n",
       "      <td>Federal student loan servicing</td>\n",
       "      <td>Dealing with my lender or servicer</td>\n",
       "      <td>Received bad information about my loan</td>\n",
       "      <td>I have been on economic deferment since I left...</td>\n",
       "      <td>bf9b849b-c1cf-44b8-9f40-4a44a7c7cf86</td>\n",
       "    </tr>\n",
       "    <tr>\n",
       "      <th>3</th>\n",
       "      <td>Credit reporting, credit repair services, or o...</td>\n",
       "      <td>Credit reporting</td>\n",
       "      <td>Improper use of your report</td>\n",
       "      <td>Credit inquiries on your report that you don't...</td>\n",
       "      <td>XXXX  and Equifax will not remove unauthorized...</td>\n",
       "      <td>2d6a58b3-efc3-4ea8-9b2c-a3fc93364db0</td>\n",
       "    </tr>\n",
       "    <tr>\n",
       "      <th>4</th>\n",
       "      <td>Debt collection</td>\n",
       "      <td>Credit card</td>\n",
       "      <td>False statements or representation</td>\n",
       "      <td>Attempted to collect wrong amount</td>\n",
       "      <td>XXXX XXXX XXXX XXXX XXXX ( serviced by XXXX XX...</td>\n",
       "      <td>58e5c75c-98b3-4876-9f0a-16cf7236e161</td>\n",
       "    </tr>\n",
       "  </tbody>\n",
       "</table>\n",
       "</div>"
      ],
      "text/plain": [
       "                                             Product  \\\n",
       "0  Credit reporting, credit repair services, or o...   \n",
       "1                                    Debt collection   \n",
       "2                                       Student loan   \n",
       "3  Credit reporting, credit repair services, or o...   \n",
       "4                                    Debt collection   \n",
       "\n",
       "                      Sub-product                               Issue  \\\n",
       "0  Other personal consumer report         Improper use of your report   \n",
       "1                     Credit card               Communication tactics   \n",
       "2  Federal student loan servicing  Dealing with my lender or servicer   \n",
       "3                Credit reporting         Improper use of your report   \n",
       "4                     Credit card  False statements or representation   \n",
       "\n",
       "                                           Sub-issue  \\\n",
       "0      Reporting company used your report improperly   \n",
       "1                         Frequent or repeated calls   \n",
       "2             Received bad information about my loan   \n",
       "3  Credit inquiries on your report that you don't...   \n",
       "4                  Attempted to collect wrong amount   \n",
       "\n",
       "                                         Description  \\\n",
       "0  On   XXXX   XXXX   XXXX     2015 Barclays Ba n...   \n",
       "1  I have been receiving numerous calls from Sync...   \n",
       "2  I have been on economic deferment since I left...   \n",
       "3  XXXX  and Equifax will not remove unauthorized...   \n",
       "4  XXXX XXXX XXXX XXXX XXXX ( serviced by XXXX XX...   \n",
       "\n",
       "                               TicketID  \n",
       "0  8f634167-1466-41b6-903e-ae8406d95232  \n",
       "1  863efe9f-1452-431e-a5e7-f1756489ec69  \n",
       "2  bf9b849b-c1cf-44b8-9f40-4a44a7c7cf86  \n",
       "3  2d6a58b3-efc3-4ea8-9b2c-a3fc93364db0  \n",
       "4  58e5c75c-98b3-4876-9f0a-16cf7236e161  "
      ]
     },
     "execution_count": 57,
     "metadata": {},
     "output_type": "execute_result"
    }
   ],
   "source": [
    "df.head()"
   ]
  },
  {
   "cell_type": "markdown",
   "metadata": {},
   "source": [
    "### Let's select the input and output mappings for training\n",
    "\n",
    "The mapping describes which columns in the upload file should be used as sample input and which ones are to be used as the classification output that the model should learn."
   ]
  },
  {
   "cell_type": "code",
   "execution_count": 1,
   "metadata": {},
   "outputs": [],
   "source": [
    "input_cols = ['Description']\n",
    "output_cols = ['Product']\n",
    "all_cols = input_cols + output_cols"
   ]
  },
  {
   "cell_type": "markdown",
   "metadata": {},
   "source": [
    "### Check the data distribution\n",
    "\n",
    "After loading the data into dataframe, we check the distribution of classes (target variable).\n",
    "\n",
    "Usually the model works best if the dataset is balanced i.e. classes are equally distributed with little skewness, and each class has at least 1000 data points."
   ]
  },
  {
   "cell_type": "code",
   "execution_count": 59,
   "metadata": {
    "scrolled": false
   },
   "outputs": [
    {
     "data": {
      "image/png": "[encoded data removed]",
      "text/plain": [
       "<Figure size 1080x720 with 1 Axes>"
      ]
     },
     "metadata": {
      "needs_background": "light"
     },
     "output_type": "display_data"
    }
   ],
   "source": [
    "fig, axes = plt.subplots(nrows=len(output_cols), ncols=1, figsize=(15, 10))\n",
    "for idx, output_col in enumerate(output_cols):\n",
    "    distribution = df[output_col].value_counts()\n",
    "    distribution.plot(kind='bar', rot=90, ax=axes[idx] if len(output_cols)!=1 else axes)"
   ]
  },
  {
   "cell_type": "markdown",
   "metadata": {},
   "source": [
    "## Training, test data split\n",
    "\n",
    "We split the loaded data into two sets\n",
    "1. Data we should upload and do the training\n",
    "2. Test data we use for testing the generated model"
   ]
  },
  {
   "cell_type": "code",
   "execution_count": 60,
   "metadata": {},
   "outputs": [],
   "source": [
    "df_train, df_test = train_test_split(df[all_cols], test_size = 0.01, shuffle=True)"
   ]
  },
  {
   "cell_type": "code",
   "execution_count": 61,
   "metadata": {
    "scrolled": false
   },
   "outputs": [
    {
     "name": "stdout",
     "output_type": "stream",
     "text": [
      "Product\n",
      "\n",
      "Training Data:\n",
      "Debt collection                                                                 5650\n",
      "Credit reporting, credit repair services, or other personal consumer reports    1730\n",
      "Student loan                                                                    1589\n",
      "Credit card or prepaid card                                                      402\n",
      "Checking or savings account                                                      273\n",
      "Vehicle loan or lease                                                             82\n",
      "Payday loan, title loan, or personal loan                                          8\n",
      "Name: Product, dtype: int64\n",
      "\n",
      "Testing Data:\n",
      "Debt collection                                                                 51\n",
      "Credit reporting, credit repair services, or other personal consumer reports    25\n",
      "Student loan                                                                    18\n",
      "Credit card or prepaid card                                                      3\n",
      "Checking or savings account                                                      2\n",
      "Name: Product, dtype: int64\n",
      "\n",
      " \n",
      "\n"
     ]
    }
   ],
   "source": [
    "for output_col in output_cols:\n",
    "    print(output_col)\n",
    "    print(\"\\nTraining Data:\")\n",
    "    print(df_train[output_col].value_counts())\n",
    "    print(\"\\nTesting Data:\")\n",
    "    print(df_test[output_col].value_counts())\n",
    "    print(\"\\n \\n\")"
   ]
  },
  {
   "cell_type": "code",
   "execution_count": 62,
   "metadata": {
    "scrolled": false
   },
   "outputs": [
    {
     "data": {
      "image/png": "[encoded data removed]",
      "text/plain": [
       "<Figure size 1440x720 with 2 Axes>"
      ]
     },
     "metadata": {
      "needs_background": "light"
     },
     "output_type": "display_data"
    }
   ],
   "source": [
    "fig, axes = plt.subplots(nrows=len(output_cols), ncols=2, figsize=(20, 10))\n",
    "for idx, output_col in enumerate(output_cols):\n",
    "    df_train[output_col].value_counts().plot(kind='bar', rot=90, title='Training data', \n",
    "                                             ax=axes[idx][0] if len(output_cols)!=1 else axes[0] )\n",
    "    df_test[output_col].value_counts().plot(kind='bar', rot=90, title='Test Data',\n",
    "                                           ax=axes[idx][1] if len(output_cols)!=1 else axes[1])\n",
    "fig.tight_layout()"
   ]
  },
  {
   "cell_type": "markdown",
   "metadata": {},
   "source": [
    "# STI REST Endpoints\n",
    "\n",
    "The STI service can be accessed and controlled through REST endpoint.\n",
    "Documentation can be found in the following link: https://help.sap.com/viewer/product/SERVICE_TICKET_INTELLIGENCE"
   ]
  },
  {
   "cell_type": "markdown",
   "metadata": {},
   "source": [
    "## Subscription and Authentication\n",
    "\n",
    "Now we are ready to train a model using the Service Ticket Intelligence API. This requires a valid subscription to the STI API.\n",
    "\n",
    "Note: Update the values for `service url`, `uaa url`, `client id` and `client secret` in the config file `sti_config.ini`. This config file is placed one directory above this notebook. These values will be available in `service_keys` of your STI instance in the cloud foundry cockpit."
   ]
  },
  {
   "cell_type": "markdown",
   "metadata": {},
   "source": [
    "Now we will use functions from `sti_functions.py` to access STI's REST endpoints. Feel free to browse the source code of it to see what's happening under the hood."
   ]
  },
  {
   "cell_type": "code",
   "execution_count": 2,
   "metadata": {},
   "outputs": [],
   "source": [
    "import configparser\n",
    "from pathlib import Path\n",
    "import sys\n",
    "\n",
    "sys.path.append(\"..\")\n",
    "import sti_functions"
   ]
  },
  {
   "cell_type": "code",
   "execution_count": 3,
   "metadata": {},
   "outputs": [],
   "source": [
    "# import importlib\n",
    "# importlib.reload(sti_functions)"
   ]
  },
  {
   "cell_type": "code",
   "execution_count": 4,
   "metadata": {},
   "outputs": [],
   "source": [
    "STI_BASE_DIR = Path.cwd().parent\n",
    "config_file_path = STI_BASE_DIR / 'sti_config.ini'\n",
    "\n",
    "connection = sti_functions.get_connection_object(config_file=config_file_path)\n",
    "sti = sti_functions.STIFunctions(connection)"
   ]
  },
  {
   "cell_type": "markdown",
   "metadata": {},
   "source": [
    "## List models\n",
    "\n",
    "Now lets do list model call using this python function to view all the models in this account"
   ]
  },
  {
   "cell_type": "code",
   "execution_count": 66,
   "metadata": {
    "scrolled": false
   },
   "outputs": [
    {
     "name": "stdout",
     "output_type": "stream",
     "text": [
      "Getting new token from https://sti-test.authentication.sap.hana.ondemand.com/oauth/token\n",
      "New token expires at 2020-06-09 16:34:37\n",
      "Response time: 1584.426 ms\n"
     ]
    },
    {
     "data": {
      "text/plain": [
       "{'results': [{'business_object': 'ticket',\n",
       "   'language': 'en',\n",
       "   'model_id': ['aada667d0e384a63bf0cad43d88f3b81',\n",
       "    'f1cead0633a44e32a449cf285b542adf',\n",
       "    '2eb7e7c1b6684c238083f8a93a140138',\n",
       "    '522e3730af304c43a25d18b8905d89f9',\n",
       "    '63689c91793145a780e482682aa525f2',\n",
       "    'a3177cf70fec4705bfb6839bc0b30636',\n",
       "    '416c46992bc74920832106eda95255a0',\n",
       "    '8d1145c3d94a44ceb3d6cae8bdee14a3',\n",
       "    '8c99a13d405948de82e9ccdf4f9ada17',\n",
       "    '8b5a8ef24966450bb8b4c08d6622ef94',\n",
       "    '3616e94d85d54fd890d2f1bd03ac61fe',\n",
       "    'fe5b0ba4a99649668b0e9ba36e466044',\n",
       "    'd7f104a02d2f4e8cbc6b074aef519268',\n",
       "    'cc078a539d6a433a92f0ac0a2fb445d2',\n",
       "    '8d62dbfd0e3043e5a16928190c8f965f'],\n",
       "   'type': 'classification'},\n",
       "  {'business_object': 'ticket',\n",
       "   'language': 'en',\n",
       "   'model_id': ['41932214b9a74aa3949824cc527a4fb2',\n",
       "    '3c086206ddbb4a6081c171ac5ab447d3',\n",
       "    '3de6092ddba945209c0fbe8fe83ef4ee',\n",
       "    'e0477c0ec4844fdab0848547e3079b28'],\n",
       "   'type': 'recommendation'},\n",
       "  {'business_object': 'ticket',\n",
       "   'language': 'pt',\n",
       "   'model_id': ['42cf1bf4074f461cba7831fa19c364c7'],\n",
       "   'type': 'classification'}],\n",
       " 'status': 0,\n",
       " 'status_message': 'ok'}"
      ]
     },
     "execution_count": 66,
     "metadata": {},
     "output_type": "execute_result"
    }
   ],
   "source": [
    "sti.list_models()"
   ]
  },
  {
   "cell_type": "markdown",
   "metadata": {},
   "source": [
    "### Let's check if we need to delete any unused model\n",
    "Based on the model list above, ensure that the number of models does not exceed 20. Otherwise, we need to delete some unused model."
   ]
  },
  {
   "cell_type": "code",
   "execution_count": 70,
   "metadata": {
    "scrolled": true
   },
   "outputs": [],
   "source": [
    "# sti.delete_model(\"8c99a13d405948de82e9ccdf4f9ada17\")"
   ]
  },
  {
   "cell_type": "markdown",
   "metadata": {},
   "source": [
    "## File upload\n",
    "\n",
    "This process will take a few minutes to complete depending on the file size. If file upload is successful, the response text will contain a model id - an UUID identifier which we can use as a reference to the uploaded training file."
   ]
  },
  {
   "cell_type": "code",
   "execution_count": 71,
   "metadata": {
    "scrolled": false
   },
   "outputs": [
    {
     "name": "stdout",
     "output_type": "stream",
     "text": [
      "Returning token from cache\n",
      "Response time: 58803.643000000004 ms\n"
     ]
    },
    {
     "data": {
      "text/plain": [
       "{'business_object': 'ticket',\n",
       " 'combined_accuracy': 0.0,\n",
       " 'desc': 'Complaint data for classification',\n",
       " 'disabled_category_class': [{'category_class': [], 'field': 'Product'}],\n",
       " 'enabled_category_class': [{'category_class': ['Checking or savings account',\n",
       "    'Debt collection',\n",
       "    'Credit reporting, credit repair services, or other personal consumer reports',\n",
       "    'Student loan',\n",
       "    'Credit card or prepaid card',\n",
       "    'Vehicle loan or lease'],\n",
       "   'field': 'Product'}],\n",
       " 'excluded_category_class': [{'category_class': ['Payday loan, title loan, or personal loan'],\n",
       "   'field': 'Product',\n",
       "   'reason': 'Not enough samples for training'}],\n",
       " 'extracted_input': [{'field': 'Description', 'type': 'str'}],\n",
       " 'extracted_output': [{'distribution': [{'count': 273,\n",
       "     'value': 'Checking or savings account'},\n",
       "    {'count': 5650, 'value': 'Debt collection'},\n",
       "    {'count': 1730,\n",
       "     'value': 'Credit reporting, credit repair services, or other personal consumer reports'},\n",
       "    {'count': 1589, 'value': 'Student loan'},\n",
       "    {'count': 402, 'value': 'Credit card or prepaid card'},\n",
       "    {'count': 82, 'value': 'Vehicle loan or lease'}],\n",
       "   'field': 'Product'}],\n",
       " 'file_upload_timestamp': '2020-06-09 08:06:47 UTC',\n",
       " 'incremental': False,\n",
       " 'incremental_possible': True,\n",
       " 'language': 'en',\n",
       " 'model_id': 'e16b7677bb3d4e339716317854c74864',\n",
       " 'model_status': 'NEW',\n",
       " 'new_category_class': [{'category_class': [], 'field': 'Product'}],\n",
       " 'records_count': 9726,\n",
       " 'status': 0,\n",
       " 'status_message': 'ok',\n",
       " 'tabulations_count': 0,\n",
       " 'type': 'classification'}"
      ]
     },
     "execution_count": 71,
     "metadata": {},
     "output_type": "execute_result"
    }
   ],
   "source": [
    "df_train_base64 = base64.b64encode(df_train.to_csv(index=False).encode('utf-8'))\n",
    "payload = {\n",
    "    \"scenario\":\n",
    "      {\n",
    "          \"desc\":\"Complaint data for classification\",\n",
    "          \"type\":\"classification\",\n",
    "          \"language\":\"en\",\n",
    "          \"business_object\":\"ticket\"\n",
    "      },\n",
    "      \"mapping\":\n",
    "      {\n",
    "            \"input\": input_cols,\n",
    "            \"output\": output_cols\n",
    "      },\n",
    "      \"training\":\n",
    "      {\n",
    "            \"file\": \"{}\".format(df_train_base64.decode('utf-8'))\n",
    "      }\n",
    "}\n",
    "response = sti.file_upload(payload)\n",
    "payload = {}\n",
    "our_model_id = response.get('model_id')\n",
    "response"
   ]
  },
  {
   "cell_type": "markdown",
   "metadata": {},
   "source": [
    "Note that the model status is new now. Once we submit training the `model_status` will transition from `NEW` -> `PENDING_TRAINING` -> `IN_TRAINING` -> `READY`"
   ]
  },
  {
   "cell_type": "markdown",
   "metadata": {},
   "source": [
    "## Start training on uploaded file\n",
    "\n",
    "Take the model id from file upload response text and pass it when in starting the model training"
   ]
  },
  {
   "cell_type": "code",
   "execution_count": 72,
   "metadata": {
    "scrolled": false
   },
   "outputs": [
    {
     "name": "stdout",
     "output_type": "stream",
     "text": [
      "Returning token from cache\n",
      "Response time: 3004.518 ms\n"
     ]
    },
    {
     "data": {
      "text/plain": [
       "{'language': 'en',\n",
       " 'model_id': 'e16b7677bb3d4e339716317854c74864',\n",
       " 'status': 0,\n",
       " 'status_message': 'ok'}"
      ]
     },
     "execution_count": 72,
     "metadata": {},
     "output_type": "execute_result"
    }
   ],
   "source": [
    "# our_model_id = \"a33807253a204ba5a2f6192a45b727d6\"\n",
    "sti.start_model_training(model_id=our_model_id)"
   ]
  },
  {
   "cell_type": "markdown",
   "metadata": {},
   "source": [
    "## Wait for training to succeed\n",
    "\n",
    "After starting the model training, do a get model status and check if model status is `READY`\n",
    "\n",
    "The model status transitions from `NEW` to `PENDING_TRAINING` once training is submitted and will further transition to `IN_TRAINING` and finally `READY` when training succeeds"
   ]
  },
  {
   "cell_type": "code",
   "execution_count": 75,
   "metadata": {
    "scrolled": false
   },
   "outputs": [
    {
     "name": "stdout",
     "output_type": "stream",
     "text": [
      "Getting new token from https://sti-test.authentication.sap.hana.ondemand.com/oauth/token\n",
      "New token expires at 2020-06-09 19:08:33\n",
      "Response time: 974.132 ms\n",
      "Model status: READY\n"
     ]
    }
   ],
   "source": [
    "# our_model_id = \"cc078a539d6a433a92f0ac0a2fb445d2\"\n",
    "status = sti.get_model_status(model_id=our_model_id)\n",
    "print(\"Model status: {}\".format(status.get('model_status')))"
   ]
  },
  {
   "cell_type": "markdown",
   "metadata": {},
   "source": [
    "Wait for model status to be `READY` before proceeding to next step. This will take upto 10-20 mins from the training submission time. Repeatedly run the above cell to get the latest model status"
   ]
  },
  {
   "cell_type": "markdown",
   "metadata": {},
   "source": [
    "Once the model status is `READY` proceed to next step."
   ]
  },
  {
   "cell_type": "markdown",
   "metadata": {},
   "source": [
    "## Model accuracy\n",
    "\n",
    "The model accuracy, confusion matrics and other metrics (such as f1, precision etc.,) can be retrived once training is completed and status becomes ready"
   ]
  },
  {
   "cell_type": "code",
   "execution_count": 76,
   "metadata": {
    "scrolled": false
   },
   "outputs": [
    {
     "name": "stdout",
     "output_type": "stream",
     "text": [
      "Returning token from cache\n",
      "Response time: 877.572 ms\n",
      "Model combined accuracy: 0.8737980723381042\n"
     ]
    }
   ],
   "source": [
    "# our_model_id = \"cc078a539d6a433a92f0ac0a2fb445d2\"\n",
    "status = sti.get_model_status(model_id=our_model_id)\n",
    "print(\"Model combined accuracy:\", status[\"combined_accuracy\"])"
   ]
  },
  {
   "cell_type": "code",
   "execution_count": 77,
   "metadata": {
    "scrolled": true
   },
   "outputs": [
    {
     "name": "stdout",
     "output_type": "stream",
     "text": [
      "Returning token from cache\n",
      "Response time: 860.1569999999999 ms\n",
      "\n",
      "Field: Product\n",
      "Model average f1 score: 0.8645931420444415\n",
      "Model average precision: 0.8705323552858558\n",
      "Model average recall: 0.8737980769230769\n"
     ]
    }
   ],
   "source": [
    "# our_model_id = \"cc078a539d6a433a92f0ac0a2fb445d2\"\n",
    "accuracy = sti.get_model_accuracy(model_id=our_model_id)\n",
    "for idx, result in enumerate(accuracy[\"validation_results\"]):\n",
    "    print(\"\\nField:\", accuracy[\"validation_results\"][idx][\"field\"])\n",
    "    print(\"Model average f1 score:\", accuracy[\"validation_results\"][idx][\"average_f1_score\"])\n",
    "    print(\"Model average precision:\", accuracy[\"validation_results\"][idx][\"average_precision\"])\n",
    "    print(\"Model average recall:\", accuracy[\"validation_results\"][idx][\"average_recall\"])"
   ]
  },
  {
   "cell_type": "markdown",
   "metadata": {},
   "source": [
    "We can plot the confusion matrix as well to visually see the performance of the model"
   ]
  },
  {
   "cell_type": "code",
   "execution_count": 78,
   "metadata": {
    "scrolled": false
   },
   "outputs": [
    {
     "name": "stdout",
     "output_type": "stream",
     "text": [
      "Returning token from cache\n",
      "Response time: 846.835 ms\n",
      "Confusion matrix, without normalization\n"
     ]
    },
    {
     "data": {
      "image/png": "[encoded data removed]",
      "text/plain": [
       "<Figure size 1440x1440 with 2 Axes>"
      ]
     },
     "metadata": {
      "needs_background": "light"
     },
     "output_type": "display_data"
    }
   ],
   "source": [
    "sti.plot_confusion_matrix(model_id=our_model_id)"
   ]
  },
  {
   "cell_type": "markdown",
   "metadata": {},
   "source": [
    "## Activate the model\n",
    "\n",
    "Once you are satisfied with the results, model needs to activated before inference can be run on"
   ]
  },
  {
   "cell_type": "code",
   "execution_count": 79,
   "metadata": {},
   "outputs": [
    {
     "name": "stdout",
     "output_type": "stream",
     "text": [
      "Returning token from cache\n",
      "Response time: 897.8580000000001 ms\n"
     ]
    },
    {
     "data": {
      "text/plain": [
       "{'model_id': 'e16b7677bb3d4e339716317854c74864',\n",
       " 'status': 0,\n",
       " 'status_message': 'ok'}"
      ]
     },
     "execution_count": 79,
     "metadata": {},
     "output_type": "execute_result"
    }
   ],
   "source": [
    "sti.activate_model(model_id=our_model_id)"
   ]
  },
  {
   "cell_type": "markdown",
   "metadata": {},
   "source": [
    "## Build inference payload and send request\n",
    "\n",
    "We will select a random example from our `df_test` dataframe which has not been sent for training and evaluate how the model performs"
   ]
  },
  {
   "cell_type": "code",
   "execution_count": 80,
   "metadata": {
    "scrolled": true
   },
   "outputs": [
    {
     "data": {
      "text/plain": [
       "Description    I signed up with XXXX XXXX XXXX about 3 years ...\n",
       "Product                                          Debt collection\n",
       "Name: 8370, dtype: object"
      ]
     },
     "execution_count": 80,
     "metadata": {},
     "output_type": "execute_result"
    }
   ],
   "source": [
    "df_test.iloc[8]"
   ]
  },
  {
   "cell_type": "code",
   "execution_count": 81,
   "metadata": {},
   "outputs": [
    {
     "name": "stdout",
     "output_type": "stream",
     "text": [
      "Returning token from cache\n",
      "Response time: 3648.0679999999998 ms\n"
     ]
    },
    {
     "data": {
      "text/plain": [
       "{'results': [{'classification': [{'confidence': 0.9729096293449402,\n",
       "     'field': 'Product',\n",
       "     'value': 'Debt collection'}],\n",
       "   'detected_language': 'en',\n",
       "   'id': 2001,\n",
       "   'status': 0,\n",
       "   'status_message': 'ok'}]}"
      ]
     },
     "execution_count": 81,
     "metadata": {},
     "output_type": "execute_result"
    }
   ],
   "source": [
    "payload = {}\n",
    "payload[\"business_object\"] = \"ticket\"\n",
    "payload[\"messages\"] = [{\"id\": 2001, \"contents\": []}]\n",
    "for input_col in input_cols:\n",
    "    payload[\"messages\"][0]['contents'].append({\"field\": input_col, \"value\": df_test.iloc[8][input_col]})\n",
    "    \n",
    "inference_response = sti.classify_text(payload)\n",
    "inference_response"
   ]
  },
  {
   "cell_type": "markdown",
   "metadata": {},
   "source": [
    "You can explore around by giving different input from `df_test` or your own input and see how the model performs"
   ]
  },
  {
   "cell_type": "markdown",
   "metadata": {},
   "source": [
    "## Lets evaluate the STI model performance ourselves\n",
    "\n",
    "We also can run inference against all the data from `df_test` and evaluate by ourselves how the sti model performs. We will results from STI against the original value of the `df_test`"
   ]
  },
  {
   "cell_type": "code",
   "execution_count": 82,
   "metadata": {},
   "outputs": [
    {
     "name": "stdout",
     "output_type": "stream",
     "text": [
      "Returning token from cache\n",
      "Response time: 22345.251999999997 ms\n"
     ]
    }
   ],
   "source": [
    "payload = {\n",
    "    \"business_object\": \"ticket\",\n",
    "    \"messages\": []\n",
    "}\n",
    "for index, row in df_test.iterrows():\n",
    "    tmp = {'id': index, 'contents': []}\n",
    "    for input_col in input_cols:\n",
    "        tmp['contents'].append({\"field\": input_col, \"value\": row[input_col]})\n",
    "\n",
    "    payload['messages'].append(tmp)\n",
    "\n",
    "inference_response = sti.classify_text(payload)"
   ]
  },
  {
   "cell_type": "code",
   "execution_count": 47,
   "metadata": {
    "scrolled": true
   },
   "outputs": [
    {
     "data": {
      "text/plain": [
       "{'results': [{'classification': [{'confidence': 0.9981388449668884,\n",
       "     'field': 'Product',\n",
       "     'value': 'Credit reporting, credit repair services, or other personal consumer reports'},\n",
       "    {'confidence': 0.9816488027572632,\n",
       "     'field': 'Sub-product',\n",
       "     'value': 'Credit reporting'}],\n",
       "   'detected_language': 'en',\n",
       "   'id': 4051,\n",
       "   'status': 0,\n",
       "   'status_message': 'ok'},\n",
       "  {'classification': [{'confidence': 0.9996929168701172,\n",
       "     'field': 'Product',\n",
       "     'value': 'Debt collection'},\n",
       "    {'confidence': 0.7396916151046753,\n",
       "     'field': 'Sub-product',\n",
       "     'value': 'Medical'}],\n",
       "   'detected_language': 'en',\n",
       "   'id': 2740,\n",
       "   'status': 0,\n",
       "   'status_message': 'ok'},\n",
       "  {'classification': [{'confidence': 0.9221192598342896,\n",
       "     'field': 'Product',\n",
       "     'value': 'Credit reporting, credit repair services, or other personal consumer reports'},\n",
       "    {'confidence': 0.8610331416130066,\n",
       "     'field': 'Sub-product',\n",
       "     'value': 'Credit reporting'}],\n",
       "   'detected_language': 'en',\n",
       "   'id': 6140,\n",
       "   'status': 0,\n",
       "   'status_message': 'ok'},\n",
       "  {'classification': [{'confidence': 0.6672004461288452,\n",
       "     'field': 'Product',\n",
       "     'value': 'Debt collection'},\n",
       "    {'confidence': 0.3559149503707886,\n",
       "     'field': 'Sub-product',\n",
       "     'value': 'Credit reporting'}],\n",
       "   'detected_language': 'en',\n",
       "   'id': 907,\n",
       "   'status': 0,\n",
       "   'status_message': 'ok'},\n",
       "  {'classification': [{'confidence': 0.954683244228363,\n",
       "     'field': 'Product',\n",
       "     'value': 'Student loan'},\n",
       "    {'confidence': 0.8204230666160583,\n",
       "     'field': 'Sub-product',\n",
       "     'value': 'Federal student loan servicing'}],\n",
       "   'detected_language': 'en',\n",
       "   'id': 7732,\n",
       "   'status': 0,\n",
       "   'status_message': 'ok'},\n",
       "  {'classification': [{'confidence': 0.9971889853477478,\n",
       "     'field': 'Product',\n",
       "     'value': 'Credit reporting, credit repair services, or other personal consumer reports'},\n",
       "    {'confidence': 0.9676551818847656,\n",
       "     'field': 'Sub-product',\n",
       "     'value': 'Credit reporting'}],\n",
       "   'detected_language': 'en',\n",
       "   'id': 8516,\n",
       "   'status': 0,\n",
       "   'status_message': 'ok'},\n",
       "  {'classification': [{'confidence': 0.7589441537857056,\n",
       "     'field': 'Product',\n",
       "     'value': 'Credit card or prepaid card'},\n",
       "    {'confidence': 0.6739367842674255,\n",
       "     'field': 'Sub-product',\n",
       "     'value': 'General-purpose credit card or charge card'}],\n",
       "   'detected_language': 'en',\n",
       "   'id': 4417,\n",
       "   'status': 0,\n",
       "   'status_message': 'ok'},\n",
       "  {'classification': [{'confidence': 0.7496680617332458,\n",
       "     'field': 'Product',\n",
       "     'value': 'Credit card or prepaid card'},\n",
       "    {'confidence': 0.5895656943321228,\n",
       "     'field': 'Sub-product',\n",
       "     'value': 'General-purpose credit card or charge card'}],\n",
       "   'detected_language': 'en',\n",
       "   'id': 5071,\n",
       "   'status': 0,\n",
       "   'status_message': 'ok'},\n",
       "  {'classification': [{'confidence': 0.808577299118042,\n",
       "     'field': 'Product',\n",
       "     'value': 'Debt collection'},\n",
       "    {'confidence': 0.2402082085609436,\n",
       "     'field': 'Sub-product',\n",
       "     'value': 'Other (i.e. phone, health club, etc.)'}],\n",
       "   'detected_language': 'en',\n",
       "   'id': 1469,\n",
       "   'status': 0,\n",
       "   'status_message': 'ok'},\n",
       "  {'classification': [{'confidence': 0.8999948501586914,\n",
       "     'field': 'Product',\n",
       "     'value': 'Debt collection'},\n",
       "    {'confidence': 0.3778385519981384,\n",
       "     'field': 'Sub-product',\n",
       "     'value': 'Other (i.e. phone, health club, etc.)'}],\n",
       "   'detected_language': 'en',\n",
       "   'id': 7935,\n",
       "   'status': 0,\n",
       "   'status_message': 'ok'},\n",
       "  {'classification': [{'confidence': 0.5409708023071289,\n",
       "     'field': 'Product',\n",
       "     'value': 'Debt collection'},\n",
       "    {'confidence': 0.23789840936660767,\n",
       "     'field': 'Sub-product',\n",
       "     'value': 'Federal student loan servicing'}],\n",
       "   'detected_language': 'en',\n",
       "   'id': 6015,\n",
       "   'status': 0,\n",
       "   'status_message': 'ok'},\n",
       "  {'classification': [{'confidence': 0.9800003170967102,\n",
       "     'field': 'Product',\n",
       "     'value': 'Debt collection'},\n",
       "    {'confidence': 0.26607948541641235,\n",
       "     'field': 'Sub-product',\n",
       "     'value': 'Credit card'}],\n",
       "   'detected_language': 'en',\n",
       "   'id': 3427,\n",
       "   'status': 0,\n",
       "   'status_message': 'ok'},\n",
       "  {'classification': [{'confidence': 0.9422105550765991,\n",
       "     'field': 'Product',\n",
       "     'value': 'Debt collection'},\n",
       "    {'confidence': 0.5665973424911499,\n",
       "     'field': 'Sub-product',\n",
       "     'value': 'Credit card'}],\n",
       "   'detected_language': 'en',\n",
       "   'id': 6265,\n",
       "   'status': 0,\n",
       "   'status_message': 'ok'},\n",
       "  {'classification': [{'confidence': 0.9803871512413025,\n",
       "     'field': 'Product',\n",
       "     'value': 'Debt collection'},\n",
       "    {'confidence': 0.24708005785942078,\n",
       "     'field': 'Sub-product',\n",
       "     'value': 'Other (i.e. phone, health club, etc.)'}],\n",
       "   'detected_language': 'en',\n",
       "   'id': 4108,\n",
       "   'status': 0,\n",
       "   'status_message': 'ok'},\n",
       "  {'classification': [{'confidence': 0.9900750517845154,\n",
       "     'field': 'Product',\n",
       "     'value': 'Debt collection'},\n",
       "    {'confidence': 0.37939387559890747,\n",
       "     'field': 'Sub-product',\n",
       "     'value': 'Other (i.e. phone, health club, etc.)'}],\n",
       "   'detected_language': 'en',\n",
       "   'id': 2255,\n",
       "   'status': 0,\n",
       "   'status_message': 'ok'},\n",
       "  {'classification': [{'confidence': 0.6815306544303894,\n",
       "     'field': 'Product',\n",
       "     'value': 'Student loan'},\n",
       "    {'confidence': 0.33593693375587463,\n",
       "     'field': 'Sub-product',\n",
       "     'value': 'Federal student loan servicing'}],\n",
       "   'detected_language': 'en',\n",
       "   'id': 6332,\n",
       "   'status': 0,\n",
       "   'status_message': 'ok'},\n",
       "  {'classification': [{'confidence': 0.9498617053031921,\n",
       "     'field': 'Product',\n",
       "     'value': 'Debt collection'},\n",
       "    {'confidence': 0.19574783742427826,\n",
       "     'field': 'Sub-product',\n",
       "     'value': 'Mortgage'}],\n",
       "   'detected_language': 'en',\n",
       "   'id': 5531,\n",
       "   'status': 0,\n",
       "   'status_message': 'ok'},\n",
       "  {'classification': [{'confidence': 0.9978607892990112,\n",
       "     'field': 'Product',\n",
       "     'value': 'Credit reporting, credit repair services, or other personal consumer reports'},\n",
       "    {'confidence': 0.9913992881774902,\n",
       "     'field': 'Sub-product',\n",
       "     'value': 'Credit reporting'}],\n",
       "   'detected_language': 'en',\n",
       "   'id': 9542,\n",
       "   'status': 0,\n",
       "   'status_message': 'ok'},\n",
       "  {'classification': [{'confidence': 0.9960125088691711,\n",
       "     'field': 'Product',\n",
       "     'value': 'Debt collection'},\n",
       "    {'confidence': 0.652856171131134,\n",
       "     'field': 'Sub-product',\n",
       "     'value': 'Other (i.e. phone, health club, etc.)'}],\n",
       "   'detected_language': 'en',\n",
       "   'id': 4705,\n",
       "   'status': 0,\n",
       "   'status_message': 'ok'},\n",
       "  {'classification': [{'confidence': 0.9269093871116638,\n",
       "     'field': 'Product',\n",
       "     'value': 'Debt collection'},\n",
       "    {'confidence': 0.4708341658115387,\n",
       "     'field': 'Sub-product',\n",
       "     'value': 'Other (i.e. phone, health club, etc.)'}],\n",
       "   'detected_language': 'en',\n",
       "   'id': 8141,\n",
       "   'status': 0,\n",
       "   'status_message': 'ok'},\n",
       "  {'classification': [{'confidence': 0.9943265318870544,\n",
       "     'field': 'Product',\n",
       "     'value': 'Debt collection'},\n",
       "    {'confidence': 0.6820052862167358,\n",
       "     'field': 'Sub-product',\n",
       "     'value': 'Other (i.e. phone, health club, etc.)'}],\n",
       "   'detected_language': 'en',\n",
       "   'id': 4129,\n",
       "   'status': 0,\n",
       "   'status_message': 'ok'},\n",
       "  {'classification': [{'confidence': 0.8494921922683716,\n",
       "     'field': 'Product',\n",
       "     'value': 'Debt collection'},\n",
       "    {'confidence': 0.28162848949432373,\n",
       "     'field': 'Sub-product',\n",
       "     'value': 'I do not know'}],\n",
       "   'detected_language': 'en',\n",
       "   'id': 2490,\n",
       "   'status': 0,\n",
       "   'status_message': 'ok'},\n",
       "  {'classification': [{'confidence': 0.9953391551971436,\n",
       "     'field': 'Product',\n",
       "     'value': 'Credit reporting, credit repair services, or other personal consumer reports'},\n",
       "    {'confidence': 0.9777029752731323,\n",
       "     'field': 'Sub-product',\n",
       "     'value': 'Credit reporting'}],\n",
       "   'detected_language': 'en',\n",
       "   'id': 6704,\n",
       "   'status': 0,\n",
       "   'status_message': 'ok'},\n",
       "  {'classification': [{'confidence': 0.7064810991287231,\n",
       "     'field': 'Product',\n",
       "     'value': 'Credit reporting, credit repair services, or other personal consumer reports'},\n",
       "    {'confidence': 0.466652512550354,\n",
       "     'field': 'Sub-product',\n",
       "     'value': 'Credit reporting'}],\n",
       "   'detected_language': 'en',\n",
       "   'id': 5908,\n",
       "   'status': 0,\n",
       "   'status_message': 'ok'},\n",
       "  {'classification': [{'confidence': 0.9946207404136658,\n",
       "     'field': 'Product',\n",
       "     'value': 'Debt collection'},\n",
       "    {'confidence': 0.2671853303909302,\n",
       "     'field': 'Sub-product',\n",
       "     'value': 'Other (i.e. phone, health club, etc.)'}],\n",
       "   'detected_language': 'en',\n",
       "   'id': 7245,\n",
       "   'status': 0,\n",
       "   'status_message': 'ok'},\n",
       "  {'classification': [{'confidence': 0.9509859085083008,\n",
       "     'field': 'Product',\n",
       "     'value': 'Checking or savings account'},\n",
       "    {'confidence': 0.9405874013900757,\n",
       "     'field': 'Sub-product',\n",
       "     'value': 'Checking account'}],\n",
       "   'detected_language': 'en',\n",
       "   'id': 5030,\n",
       "   'status': 0,\n",
       "   'status_message': 'ok'},\n",
       "  {'classification': [{'confidence': 0.9992726445198059,\n",
       "     'field': 'Product',\n",
       "     'value': 'Debt collection'},\n",
       "    {'confidence': 0.4896852672100067,\n",
       "     'field': 'Sub-product',\n",
       "     'value': 'Credit card'}],\n",
       "   'detected_language': 'en',\n",
       "   'id': 1998,\n",
       "   'status': 0,\n",
       "   'status_message': 'ok'},\n",
       "  {'classification': [{'confidence': 0.9883661866188049,\n",
       "     'field': 'Product',\n",
       "     'value': 'Checking or savings account'},\n",
       "    {'confidence': 0.9921939969062805,\n",
       "     'field': 'Sub-product',\n",
       "     'value': 'Checking account'}],\n",
       "   'detected_language': 'en',\n",
       "   'id': 3625,\n",
       "   'status': 0,\n",
       "   'status_message': 'ok'},\n",
       "  {'classification': [{'confidence': 0.5722306370735168,\n",
       "     'field': 'Product',\n",
       "     'value': 'Debt collection'},\n",
       "    {'confidence': 0.22429676353931427,\n",
       "     'field': 'Sub-product',\n",
       "     'value': 'Credit reporting'}],\n",
       "   'detected_language': 'en',\n",
       "   'id': 7556,\n",
       "   'status': 0,\n",
       "   'status_message': 'ok'},\n",
       "  {'classification': [{'confidence': 0.9423917531967163,\n",
       "     'field': 'Product',\n",
       "     'value': 'Debt collection'},\n",
       "    {'confidence': 0.8709831833839417,\n",
       "     'field': 'Sub-product',\n",
       "     'value': 'Payday loan'}],\n",
       "   'detected_language': 'en',\n",
       "   'id': 359,\n",
       "   'status': 0,\n",
       "   'status_message': 'ok'},\n",
       "  {'classification': [{'confidence': 0.9881008863449097,\n",
       "     'field': 'Product',\n",
       "     'value': 'Credit reporting, credit repair services, or other personal consumer reports'},\n",
       "    {'confidence': 0.9695952534675598,\n",
       "     'field': 'Sub-product',\n",
       "     'value': 'Credit reporting'}],\n",
       "   'detected_language': 'en',\n",
       "   'id': 3590,\n",
       "   'status': 0,\n",
       "   'status_message': 'ok'},\n",
       "  {'classification': [{'confidence': 0.9759725332260132,\n",
       "     'field': 'Product',\n",
       "     'value': 'Debt collection'},\n",
       "    {'confidence': 0.3401253819465637,\n",
       "     'field': 'Sub-product',\n",
       "     'value': 'I do not know'}],\n",
       "   'detected_language': 'en',\n",
       "   'id': 3958,\n",
       "   'status': 0,\n",
       "   'status_message': 'ok'},\n",
       "  {'classification': [{'confidence': 0.3742954730987549,\n",
       "     'field': 'Product',\n",
       "     'value': 'Checking or savings account'},\n",
       "    {'confidence': 0.23695243895053864,\n",
       "     'field': 'Sub-product',\n",
       "     'value': 'Checking account'}],\n",
       "   'detected_language': 'en',\n",
       "   'id': 9039,\n",
       "   'status': 0,\n",
       "   'status_message': 'ok'},\n",
       "  {'classification': [{'confidence': 0.9564942717552185,\n",
       "     'field': 'Product',\n",
       "     'value': 'Debt collection'},\n",
       "    {'confidence': 0.44341570138931274,\n",
       "     'field': 'Sub-product',\n",
       "     'value': 'Other (i.e. phone, health club, etc.)'}],\n",
       "   'detected_language': 'en',\n",
       "   'id': 7939,\n",
       "   'status': 0,\n",
       "   'status_message': 'ok'},\n",
       "  {'classification': [{'confidence': 0.9980959296226501,\n",
       "     'field': 'Product',\n",
       "     'value': 'Debt collection'},\n",
       "    {'confidence': 0.6433706283569336,\n",
       "     'field': 'Sub-product',\n",
       "     'value': 'Other (i.e. phone, health club, etc.)'}],\n",
       "   'detected_language': 'en',\n",
       "   'id': 3080,\n",
       "   'status': 0,\n",
       "   'status_message': 'ok'},\n",
       "  {'classification': [{'confidence': 0.6752696633338928,\n",
       "     'field': 'Product',\n",
       "     'value': 'Checking or savings account'},\n",
       "    {'confidence': 0.5743367671966553,\n",
       "     'field': 'Sub-product',\n",
       "     'value': 'Checking account'}],\n",
       "   'detected_language': 'en',\n",
       "   'id': 3739,\n",
       "   'status': 0,\n",
       "   'status_message': 'ok'},\n",
       "  {'classification': [{'confidence': 0.9926021695137024,\n",
       "     'field': 'Product',\n",
       "     'value': 'Credit reporting, credit repair services, or other personal consumer reports'},\n",
       "    {'confidence': 0.9643816947937012,\n",
       "     'field': 'Sub-product',\n",
       "     'value': 'Credit reporting'}],\n",
       "   'detected_language': 'en',\n",
       "   'id': 6445,\n",
       "   'status': 0,\n",
       "   'status_message': 'ok'},\n",
       "  {'classification': [{'confidence': 0.6624919772148132,\n",
       "     'field': 'Product',\n",
       "     'value': 'Credit reporting, credit repair services, or other personal consumer reports'},\n",
       "    {'confidence': 0.5250707864761353,\n",
       "     'field': 'Sub-product',\n",
       "     'value': 'Credit reporting'}],\n",
       "   'detected_language': 'en',\n",
       "   'id': 4495,\n",
       "   'status': 0,\n",
       "   'status_message': 'ok'},\n",
       "  {'classification': [{'confidence': 0.9995861649513245,\n",
       "     'field': 'Product',\n",
       "     'value': 'Debt collection'},\n",
       "    {'confidence': 0.557937502861023,\n",
       "     'field': 'Sub-product',\n",
       "     'value': 'I do not know'}],\n",
       "   'detected_language': 'en',\n",
       "   'id': 4358,\n",
       "   'status': 0,\n",
       "   'status_message': 'ok'},\n",
       "  {'classification': [{'confidence': 0.9997560381889343,\n",
       "     'field': 'Product',\n",
       "     'value': 'Credit reporting, credit repair services, or other personal consumer reports'},\n",
       "    {'confidence': 0.9936462044715881,\n",
       "     'field': 'Sub-product',\n",
       "     'value': 'Credit reporting'}],\n",
       "   'detected_language': 'en',\n",
       "   'id': 6203,\n",
       "   'status': 0,\n",
       "   'status_message': 'ok'},\n",
       "  {'classification': [{'confidence': 0.59456467628479,\n",
       "     'field': 'Product',\n",
       "     'value': 'Credit card or prepaid card'},\n",
       "    {'confidence': 0.5444449782371521,\n",
       "     'field': 'Sub-product',\n",
       "     'value': 'General-purpose credit card or charge card'}],\n",
       "   'detected_language': 'en',\n",
       "   'id': 2373,\n",
       "   'status': 0,\n",
       "   'status_message': 'ok'},\n",
       "  {'classification': [{'confidence': 0.8342122435569763,\n",
       "     'field': 'Product',\n",
       "     'value': 'Debt collection'},\n",
       "    {'confidence': 0.27907827496528625,\n",
       "     'field': 'Sub-product',\n",
       "     'value': 'I do not know'}],\n",
       "   'detected_language': 'en',\n",
       "   'id': 3639,\n",
       "   'status': 0,\n",
       "   'status_message': 'ok'},\n",
       "  {'classification': [{'confidence': 0.9883002042770386,\n",
       "     'field': 'Product',\n",
       "     'value': 'Debt collection'},\n",
       "    {'confidence': 0.3082306385040283,\n",
       "     'field': 'Sub-product',\n",
       "     'value': 'Credit card'}],\n",
       "   'detected_language': 'en',\n",
       "   'id': 2963,\n",
       "   'status': 0,\n",
       "   'status_message': 'ok'},\n",
       "  {'classification': [{'confidence': 0.6061262488365173,\n",
       "     'field': 'Product',\n",
       "     'value': 'Credit reporting, credit repair services, or other personal consumer reports'},\n",
       "    {'confidence': 0.509888231754303,\n",
       "     'field': 'Sub-product',\n",
       "     'value': 'Credit reporting'}],\n",
       "   'detected_language': 'en',\n",
       "   'id': 7721,\n",
       "   'status': 0,\n",
       "   'status_message': 'ok'},\n",
       "  {'classification': [{'confidence': 0.9451099038124084,\n",
       "     'field': 'Product',\n",
       "     'value': 'Debt collection'},\n",
       "    {'confidence': 0.19138993322849274,\n",
       "     'field': 'Sub-product',\n",
       "     'value': 'I do not know'}],\n",
       "   'detected_language': 'en',\n",
       "   'id': 3787,\n",
       "   'status': 0,\n",
       "   'status_message': 'ok'},\n",
       "  {'classification': [{'confidence': 0.5460251569747925,\n",
       "     'field': 'Product',\n",
       "     'value': 'Credit reporting, credit repair services, or other personal consumer reports'},\n",
       "    {'confidence': 0.48365968465805054,\n",
       "     'field': 'Sub-product',\n",
       "     'value': 'Credit reporting'}],\n",
       "   'detected_language': 'en',\n",
       "   'id': 6026,\n",
       "   'status': 0,\n",
       "   'status_message': 'ok'},\n",
       "  {'classification': [{'confidence': 0.9980437755584717,\n",
       "     'field': 'Product',\n",
       "     'value': 'Credit reporting, credit repair services, or other personal consumer reports'},\n",
       "    {'confidence': 0.9824498295783997,\n",
       "     'field': 'Sub-product',\n",
       "     'value': 'Credit reporting'}],\n",
       "   'detected_language': 'en',\n",
       "   'id': 4041,\n",
       "   'status': 0,\n",
       "   'status_message': 'ok'},\n",
       "  {'classification': [{'confidence': 0.9990787506103516,\n",
       "     'field': 'Product',\n",
       "     'value': 'Credit reporting, credit repair services, or other personal consumer reports'},\n",
       "    {'confidence': 0.9816187620162964,\n",
       "     'field': 'Sub-product',\n",
       "     'value': 'Credit reporting'}],\n",
       "   'detected_language': 'en',\n",
       "   'id': 9495,\n",
       "   'status': 0,\n",
       "   'status_message': 'ok'},\n",
       "  {'classification': [{'confidence': 0.9938012957572937,\n",
       "     'field': 'Product',\n",
       "     'value': 'Credit reporting, credit repair services, or other personal consumer reports'},\n",
       "    {'confidence': 0.9773815870285034,\n",
       "     'field': 'Sub-product',\n",
       "     'value': 'Credit reporting'}],\n",
       "   'detected_language': 'en',\n",
       "   'id': 7526,\n",
       "   'status': 0,\n",
       "   'status_message': 'ok'},\n",
       "  {'classification': [{'confidence': 0.9920917749404907,\n",
       "     'field': 'Product',\n",
       "     'value': 'Debt collection'},\n",
       "    {'confidence': 0.699385941028595,\n",
       "     'field': 'Sub-product',\n",
       "     'value': 'Medical'}],\n",
       "   'detected_language': 'en',\n",
       "   'id': 6136,\n",
       "   'status': 0,\n",
       "   'status_message': 'ok'},\n",
       "  {'classification': [{'confidence': 0.6033241152763367,\n",
       "     'field': 'Product',\n",
       "     'value': 'Credit reporting, credit repair services, or other personal consumer reports'},\n",
       "    {'confidence': 0.5060177445411682,\n",
       "     'field': 'Sub-product',\n",
       "     'value': 'Credit reporting'}],\n",
       "   'detected_language': 'en',\n",
       "   'id': 530,\n",
       "   'status': 0,\n",
       "   'status_message': 'ok'},\n",
       "  {'classification': [{'confidence': 0.99072265625,\n",
       "     'field': 'Product',\n",
       "     'value': 'Debt collection'},\n",
       "    {'confidence': 0.8752799034118652,\n",
       "     'field': 'Sub-product',\n",
       "     'value': 'Credit card'}],\n",
       "   'detected_language': 'en',\n",
       "   'id': 7877,\n",
       "   'status': 0,\n",
       "   'status_message': 'ok'},\n",
       "  {'classification': [{'confidence': 0.9988686442375183,\n",
       "     'field': 'Product',\n",
       "     'value': 'Debt collection'},\n",
       "    {'confidence': 0.43721190094947815,\n",
       "     'field': 'Sub-product',\n",
       "     'value': 'Other (i.e. phone, health club, etc.)'}],\n",
       "   'detected_language': 'en',\n",
       "   'id': 6896,\n",
       "   'status': 0,\n",
       "   'status_message': 'ok'},\n",
       "  {'classification': [{'confidence': 0.7243741154670715,\n",
       "     'field': 'Product',\n",
       "     'value': 'Student loan'},\n",
       "    {'confidence': 0.7064250707626343,\n",
       "     'field': 'Sub-product',\n",
       "     'value': 'Non-federal student loan'}],\n",
       "   'detected_language': 'en',\n",
       "   'id': 8189,\n",
       "   'status': 0,\n",
       "   'status_message': 'ok'},\n",
       "  {'classification': [{'confidence': 0.9895187616348267,\n",
       "     'field': 'Product',\n",
       "     'value': 'Debt collection'},\n",
       "    {'confidence': 0.33503487706184387,\n",
       "     'field': 'Sub-product',\n",
       "     'value': 'I do not know'}],\n",
       "   'detected_language': 'en',\n",
       "   'id': 1114,\n",
       "   'status': 0,\n",
       "   'status_message': 'ok'},\n",
       "  {'classification': [{'confidence': 0.973336398601532,\n",
       "     'field': 'Product',\n",
       "     'value': 'Debt collection'},\n",
       "    {'confidence': 0.29583483934402466,\n",
       "     'field': 'Sub-product',\n",
       "     'value': 'Medical'}],\n",
       "   'detected_language': 'en',\n",
       "   'id': 3382,\n",
       "   'status': 0,\n",
       "   'status_message': 'ok'},\n",
       "  {'classification': [{'confidence': 0.9917783141136169,\n",
       "     'field': 'Product',\n",
       "     'value': 'Debt collection'},\n",
       "    {'confidence': 0.7851712703704834,\n",
       "     'field': 'Sub-product',\n",
       "     'value': 'Credit card'}],\n",
       "   'detected_language': 'en',\n",
       "   'id': 8333,\n",
       "   'status': 0,\n",
       "   'status_message': 'ok'},\n",
       "  {'classification': [{'confidence': 0.9838773608207703,\n",
       "     'field': 'Product',\n",
       "     'value': 'Credit reporting, credit repair services, or other personal consumer reports'},\n",
       "    {'confidence': 0.9140235185623169,\n",
       "     'field': 'Sub-product',\n",
       "     'value': 'Credit reporting'}],\n",
       "   'detected_language': 'en',\n",
       "   'id': 7095,\n",
       "   'status': 0,\n",
       "   'status_message': 'ok'},\n",
       "  {'classification': [{'confidence': 0.988260805606842,\n",
       "     'field': 'Product',\n",
       "     'value': 'Debt collection'},\n",
       "    {'confidence': 0.2701638638973236,\n",
       "     'field': 'Sub-product',\n",
       "     'value': 'Other (i.e. phone, health club, etc.)'}],\n",
       "   'detected_language': 'en',\n",
       "   'id': 828,\n",
       "   'status': 0,\n",
       "   'status_message': 'ok'},\n",
       "  {'classification': [{'confidence': 0.9733131527900696,\n",
       "     'field': 'Product',\n",
       "     'value': 'Credit reporting, credit repair services, or other personal consumer reports'},\n",
       "    {'confidence': 0.9488346576690674,\n",
       "     'field': 'Sub-product',\n",
       "     'value': 'Credit reporting'}],\n",
       "   'detected_language': 'en',\n",
       "   'id': 3391,\n",
       "   'status': 0,\n",
       "   'status_message': 'ok'},\n",
       "  {'classification': [{'confidence': 0.7145755887031555,\n",
       "     'field': 'Product',\n",
       "     'value': 'Debt collection'},\n",
       "    {'confidence': 0.44054147601127625,\n",
       "     'field': 'Sub-product',\n",
       "     'value': 'Credit card'}],\n",
       "   'detected_language': 'en',\n",
       "   'id': 1685,\n",
       "   'status': 0,\n",
       "   'status_message': 'ok'},\n",
       "  {'classification': [{'confidence': 0.8824607133865356,\n",
       "     'field': 'Product',\n",
       "     'value': 'Debt collection'},\n",
       "    {'confidence': 0.36620423197746277,\n",
       "     'field': 'Sub-product',\n",
       "     'value': 'Credit card'}],\n",
       "   'detected_language': 'en',\n",
       "   'id': 5142,\n",
       "   'status': 0,\n",
       "   'status_message': 'ok'},\n",
       "  {'classification': [{'confidence': 0.6198223829269409,\n",
       "     'field': 'Product',\n",
       "     'value': 'Debt collection'},\n",
       "    {'confidence': 0.5447340607643127,\n",
       "     'field': 'Sub-product',\n",
       "     'value': 'Medical'}],\n",
       "   'detected_language': 'en',\n",
       "   'id': 8211,\n",
       "   'status': 0,\n",
       "   'status_message': 'ok'},\n",
       "  {'classification': [{'confidence': 0.980311393737793,\n",
       "     'field': 'Product',\n",
       "     'value': 'Credit reporting, credit repair services, or other personal consumer reports'},\n",
       "    {'confidence': 0.9283716678619385,\n",
       "     'field': 'Sub-product',\n",
       "     'value': 'Credit reporting'}],\n",
       "   'detected_language': 'en',\n",
       "   'id': 7641,\n",
       "   'status': 0,\n",
       "   'status_message': 'ok'},\n",
       "  {'classification': [{'confidence': 0.919343113899231,\n",
       "     'field': 'Product',\n",
       "     'value': 'Student loan'},\n",
       "    {'confidence': 0.5631622672080994,\n",
       "     'field': 'Sub-product',\n",
       "     'value': 'Federal student loan servicing'}],\n",
       "   'detected_language': 'en',\n",
       "   'id': 3599,\n",
       "   'status': 0,\n",
       "   'status_message': 'ok'},\n",
       "  {'classification': [{'confidence': 0.9888581037521362,\n",
       "     'field': 'Product',\n",
       "     'value': 'Student loan'},\n",
       "    {'confidence': 0.8650088906288147,\n",
       "     'field': 'Sub-product',\n",
       "     'value': 'Federal student loan servicing'}],\n",
       "   'detected_language': 'en',\n",
       "   'id': 8244,\n",
       "   'status': 0,\n",
       "   'status_message': 'ok'},\n",
       "  {'classification': [{'confidence': 0.8700317740440369,\n",
       "     'field': 'Product',\n",
       "     'value': 'Debt collection'},\n",
       "    {'confidence': 0.4261082708835602,\n",
       "     'field': 'Sub-product',\n",
       "     'value': 'I do not know'}],\n",
       "   'detected_language': 'en',\n",
       "   'id': 1316,\n",
       "   'status': 0,\n",
       "   'status_message': 'ok'},\n",
       "  {'classification': [{'confidence': 0.44158071279525757,\n",
       "     'field': 'Product',\n",
       "     'value': 'Credit reporting, credit repair services, or other personal consumer reports'},\n",
       "    {'confidence': 0.4307965040206909,\n",
       "     'field': 'Sub-product',\n",
       "     'value': 'Mortgage'}],\n",
       "   'detected_language': 'en',\n",
       "   'id': 1003,\n",
       "   'status': 0,\n",
       "   'status_message': 'ok'},\n",
       "  {'classification': [{'confidence': 0.838282585144043,\n",
       "     'field': 'Product',\n",
       "     'value': 'Credit reporting, credit repair services, or other personal consumer reports'},\n",
       "    {'confidence': 0.701998233795166,\n",
       "     'field': 'Sub-product',\n",
       "     'value': 'Credit reporting'}],\n",
       "   'detected_language': 'en',\n",
       "   'id': 1786,\n",
       "   'status': 0,\n",
       "   'status_message': 'ok'},\n",
       "  {'classification': [{'confidence': 0.8079639673233032,\n",
       "     'field': 'Product',\n",
       "     'value': 'Debt collection'},\n",
       "    {'confidence': 0.1703500896692276,\n",
       "     'field': 'Sub-product',\n",
       "     'value': 'Mortgage'}],\n",
       "   'detected_language': 'en',\n",
       "   'id': 3347,\n",
       "   'status': 0,\n",
       "   'status_message': 'ok'},\n",
       "  {'classification': [{'confidence': 0.9749226570129395,\n",
       "     'field': 'Product',\n",
       "     'value': 'Credit reporting, credit repair services, or other personal consumer reports'},\n",
       "    {'confidence': 0.921234130859375,\n",
       "     'field': 'Sub-product',\n",
       "     'value': 'Credit reporting'}],\n",
       "   'detected_language': 'en',\n",
       "   'id': 525,\n",
       "   'status': 0,\n",
       "   'status_message': 'ok'},\n",
       "  {'classification': [{'confidence': 0.9988362789154053,\n",
       "     'field': 'Product',\n",
       "     'value': 'Credit reporting, credit repair services, or other personal consumer reports'},\n",
       "    {'confidence': 0.9879734516143799,\n",
       "     'field': 'Sub-product',\n",
       "     'value': 'Credit reporting'}],\n",
       "   'detected_language': 'en',\n",
       "   'id': 3915,\n",
       "   'status': 0,\n",
       "   'status_message': 'ok'},\n",
       "  {'classification': [{'confidence': 0.5923781394958496,\n",
       "     'field': 'Product',\n",
       "     'value': 'Debt collection'},\n",
       "    {'confidence': 0.15155062079429626,\n",
       "     'field': 'Sub-product',\n",
       "     'value': 'Other (i.e. phone, health club, etc.)'}],\n",
       "   'detected_language': 'en',\n",
       "   'id': 4021,\n",
       "   'status': 0,\n",
       "   'status_message': 'ok'},\n",
       "  {'classification': [{'confidence': 0.9673412442207336,\n",
       "     'field': 'Product',\n",
       "     'value': 'Student loan'},\n",
       "    {'confidence': 0.8717416524887085,\n",
       "     'field': 'Sub-product',\n",
       "     'value': 'Federal student loan servicing'}],\n",
       "   'detected_language': 'en',\n",
       "   'id': 8487,\n",
       "   'status': 0,\n",
       "   'status_message': 'ok'},\n",
       "  {'classification': [{'confidence': 0.9916519522666931,\n",
       "     'field': 'Product',\n",
       "     'value': 'Debt collection'},\n",
       "    {'confidence': 0.7939950227737427,\n",
       "     'field': 'Sub-product',\n",
       "     'value': 'Other (i.e. phone, health club, etc.)'}],\n",
       "   'detected_language': 'en',\n",
       "   'id': 3207,\n",
       "   'status': 0,\n",
       "   'status_message': 'ok'},\n",
       "  {'classification': [{'confidence': 0.7091971635818481,\n",
       "     'field': 'Product',\n",
       "     'value': 'Credit reporting, credit repair services, or other personal consumer reports'},\n",
       "    {'confidence': 0.5810893177986145,\n",
       "     'field': 'Sub-product',\n",
       "     'value': 'Credit reporting'}],\n",
       "   'detected_language': 'en',\n",
       "   'id': 9760,\n",
       "   'status': 0,\n",
       "   'status_message': 'ok'},\n",
       "  {'classification': [{'confidence': 0.824061930179596,\n",
       "     'field': 'Product',\n",
       "     'value': 'Credit reporting, credit repair services, or other personal consumer reports'},\n",
       "    {'confidence': 0.771017849445343,\n",
       "     'field': 'Sub-product',\n",
       "     'value': 'Credit reporting'}],\n",
       "   'detected_language': 'en',\n",
       "   'id': 9151,\n",
       "   'status': 0,\n",
       "   'status_message': 'ok'},\n",
       "  {'classification': [{'confidence': 0.9345909357070923,\n",
       "     'field': 'Product',\n",
       "     'value': 'Student loan'},\n",
       "    {'confidence': 0.5779195427894592,\n",
       "     'field': 'Sub-product',\n",
       "     'value': 'Federal student loan servicing'}],\n",
       "   'detected_language': 'en',\n",
       "   'id': 2260,\n",
       "   'status': 0,\n",
       "   'status_message': 'ok'},\n",
       "  {'classification': [{'confidence': 0.9979377388954163,\n",
       "     'field': 'Product',\n",
       "     'value': 'Debt collection'},\n",
       "    {'confidence': 0.5898094773292542,\n",
       "     'field': 'Sub-product',\n",
       "     'value': 'Medical'}],\n",
       "   'detected_language': 'en',\n",
       "   'id': 5335,\n",
       "   'status': 0,\n",
       "   'status_message': 'ok'},\n",
       "  {'classification': [{'confidence': 0.5841078758239746,\n",
       "     'field': 'Product',\n",
       "     'value': 'Student loan'},\n",
       "    {'confidence': 0.6506205797195435,\n",
       "     'field': 'Sub-product',\n",
       "     'value': 'Non-federal student loan'}],\n",
       "   'detected_language': 'en',\n",
       "   'id': 5968,\n",
       "   'status': 0,\n",
       "   'status_message': 'ok'},\n",
       "  {'classification': [{'confidence': 0.9922658205032349,\n",
       "     'field': 'Product',\n",
       "     'value': 'Debt collection'},\n",
       "    {'confidence': 0.2548277974128723,\n",
       "     'field': 'Sub-product',\n",
       "     'value': 'I do not know'}],\n",
       "   'detected_language': 'en',\n",
       "   'id': 2614,\n",
       "   'status': 0,\n",
       "   'status_message': 'ok'},\n",
       "  {'classification': [{'confidence': 0.9945580959320068,\n",
       "     'field': 'Product',\n",
       "     'value': 'Debt collection'},\n",
       "    {'confidence': 0.4520581364631653,\n",
       "     'field': 'Sub-product',\n",
       "     'value': 'Credit card'}],\n",
       "   'detected_language': 'en',\n",
       "   'id': 7685,\n",
       "   'status': 0,\n",
       "   'status_message': 'ok'},\n",
       "  {'classification': [{'confidence': 0.7263880372047424,\n",
       "     'field': 'Product',\n",
       "     'value': 'Debt collection'},\n",
       "    {'confidence': 0.24471618235111237,\n",
       "     'field': 'Sub-product',\n",
       "     'value': 'I do not know'}],\n",
       "   'detected_language': 'en',\n",
       "   'id': 2338,\n",
       "   'status': 0,\n",
       "   'status_message': 'ok'},\n",
       "  {'classification': [{'confidence': 0.963046669960022,\n",
       "     'field': 'Product',\n",
       "     'value': 'Debt collection'},\n",
       "    {'confidence': 0.26450681686401367,\n",
       "     'field': 'Sub-product',\n",
       "     'value': 'Other (i.e. phone, health club, etc.)'}],\n",
       "   'detected_language': 'en',\n",
       "   'id': 2928,\n",
       "   'status': 0,\n",
       "   'status_message': 'ok'},\n",
       "  {'classification': [{'confidence': 0.9485321044921875,\n",
       "     'field': 'Product',\n",
       "     'value': 'Debt collection'},\n",
       "    {'confidence': 0.5621809959411621,\n",
       "     'field': 'Sub-product',\n",
       "     'value': 'Other (i.e. phone, health club, etc.)'}],\n",
       "   'detected_language': 'en',\n",
       "   'id': 6852,\n",
       "   'status': 0,\n",
       "   'status_message': 'ok'},\n",
       "  {'classification': [{'confidence': 0.9953243732452393,\n",
       "     'field': 'Product',\n",
       "     'value': 'Student loan'},\n",
       "    {'confidence': 0.8747128844261169,\n",
       "     'field': 'Sub-product',\n",
       "     'value': 'Federal student loan servicing'}],\n",
       "   'detected_language': 'en',\n",
       "   'id': 5670,\n",
       "   'status': 0,\n",
       "   'status_message': 'ok'},\n",
       "  {'classification': [{'confidence': 0.9963232278823853,\n",
       "     'field': 'Product',\n",
       "     'value': 'Credit reporting, credit repair services, or other personal consumer reports'},\n",
       "    {'confidence': 0.9771422743797302,\n",
       "     'field': 'Sub-product',\n",
       "     'value': 'Credit reporting'}],\n",
       "   'detected_language': 'en',\n",
       "   'id': 1236,\n",
       "   'status': 0,\n",
       "   'status_message': 'ok'},\n",
       "  {'classification': [{'confidence': 0.9958602786064148,\n",
       "     'field': 'Product',\n",
       "     'value': 'Student loan'},\n",
       "    {'confidence': 0.6237865686416626,\n",
       "     'field': 'Sub-product',\n",
       "     'value': 'Federal student loan servicing'}],\n",
       "   'detected_language': 'en',\n",
       "   'id': 2089,\n",
       "   'status': 0,\n",
       "   'status_message': 'ok'},\n",
       "  {'classification': [{'confidence': 0.9983313679695129,\n",
       "     'field': 'Product',\n",
       "     'value': 'Student loan'},\n",
       "    {'confidence': 0.71788489818573,\n",
       "     'field': 'Sub-product',\n",
       "     'value': 'Federal student loan servicing'}],\n",
       "   'detected_language': 'en',\n",
       "   'id': 7719,\n",
       "   'status': 0,\n",
       "   'status_message': 'ok'},\n",
       "  {'classification': [{'confidence': 0.9907944798469543,\n",
       "     'field': 'Product',\n",
       "     'value': 'Debt collection'},\n",
       "    {'confidence': 0.7937676310539246,\n",
       "     'field': 'Sub-product',\n",
       "     'value': 'Medical'}],\n",
       "   'detected_language': 'en',\n",
       "   'id': 4342,\n",
       "   'status': 0,\n",
       "   'status_message': 'ok'},\n",
       "  {'classification': [{'confidence': 0.9902065992355347,\n",
       "     'field': 'Product',\n",
       "     'value': 'Student loan'},\n",
       "    {'confidence': 0.5515307784080505,\n",
       "     'field': 'Sub-product',\n",
       "     'value': 'Non-federal student loan'}],\n",
       "   'detected_language': 'en',\n",
       "   'id': 5380,\n",
       "   'status': 0,\n",
       "   'status_message': 'ok'},\n",
       "  {'classification': [{'confidence': 0.9815938472747803,\n",
       "     'field': 'Product',\n",
       "     'value': 'Debt collection'},\n",
       "    {'confidence': 0.3199377954006195,\n",
       "     'field': 'Sub-product',\n",
       "     'value': 'Other (i.e. phone, health club, etc.)'}],\n",
       "   'detected_language': 'en',\n",
       "   'id': 5817,\n",
       "   'status': 0,\n",
       "   'status_message': 'ok'},\n",
       "  {'classification': [{'confidence': 0.9892604947090149,\n",
       "     'field': 'Product',\n",
       "     'value': 'Debt collection'},\n",
       "    {'confidence': 0.25758612155914307,\n",
       "     'field': 'Sub-product',\n",
       "     'value': 'Credit card'}],\n",
       "   'detected_language': 'en',\n",
       "   'id': 3119,\n",
       "   'status': 0,\n",
       "   'status_message': 'ok'},\n",
       "  {'classification': [{'confidence': 0.9685565233230591,\n",
       "     'field': 'Product',\n",
       "     'value': 'Credit reporting, credit repair services, or other personal consumer reports'},\n",
       "    {'confidence': 0.9164225459098816,\n",
       "     'field': 'Sub-product',\n",
       "     'value': 'Credit reporting'}],\n",
       "   'detected_language': 'en',\n",
       "   'id': 1829,\n",
       "   'status': 0,\n",
       "   'status_message': 'ok'},\n",
       "  {'classification': [{'confidence': 0.9442896842956543,\n",
       "     'field': 'Product',\n",
       "     'value': 'Student loan'},\n",
       "    {'confidence': 0.6089829206466675,\n",
       "     'field': 'Sub-product',\n",
       "     'value': 'Federal student loan servicing'}],\n",
       "   'detected_language': 'en',\n",
       "   'id': 6302,\n",
       "   'status': 0,\n",
       "   'status_message': 'ok'},\n",
       "  {'classification': [{'confidence': 0.9777963757514954,\n",
       "     'field': 'Product',\n",
       "     'value': 'Debt collection'},\n",
       "    {'confidence': 0.3174661099910736,\n",
       "     'field': 'Sub-product',\n",
       "     'value': 'Other (i.e. phone, health club, etc.)'}],\n",
       "   'detected_language': 'en',\n",
       "   'id': 7532,\n",
       "   'status': 0,\n",
       "   'status_message': 'ok'},\n",
       "  {'classification': [{'confidence': 0.8908284902572632,\n",
       "     'field': 'Product',\n",
       "     'value': 'Debt collection'},\n",
       "    {'confidence': 0.38794174790382385,\n",
       "     'field': 'Sub-product',\n",
       "     'value': 'I do not know'}],\n",
       "   'detected_language': 'en',\n",
       "   'id': 3876,\n",
       "   'status': 0,\n",
       "   'status_message': 'ok'},\n",
       "  {'classification': [{'confidence': 0.7505296468734741,\n",
       "     'field': 'Product',\n",
       "     'value': 'Credit card or prepaid card'},\n",
       "    {'confidence': 0.6484028697013855,\n",
       "     'field': 'Sub-product',\n",
       "     'value': 'General-purpose credit card or charge card'}],\n",
       "   'detected_language': 'en',\n",
       "   'id': 7152,\n",
       "   'status': 0,\n",
       "   'status_message': 'ok'},\n",
       "  {'classification': [{'confidence': 0.7383759021759033,\n",
       "     'field': 'Product',\n",
       "     'value': 'Debt collection'},\n",
       "    {'confidence': 0.38660573959350586,\n",
       "     'field': 'Sub-product',\n",
       "     'value': 'Medical'}],\n",
       "   'detected_language': 'en',\n",
       "   'id': 8751,\n",
       "   'status': 0,\n",
       "   'status_message': 'ok'}]}"
      ]
     },
     "execution_count": 47,
     "metadata": {},
     "output_type": "execute_result"
    }
   ],
   "source": [
    "inference_response"
   ]
  },
  {
   "cell_type": "code",
   "execution_count": 83,
   "metadata": {
    "scrolled": true
   },
   "outputs": [
    {
     "name": "stdout",
     "output_type": "stream",
     "text": [
      "                                                                              precision    recall  f1-score   support\n",
      "\n",
      "                                                 Checking or savings account       0.67      1.00      0.80         2\n",
      "                                                 Credit card or prepaid card       1.00      0.67      0.80         3\n",
      "Credit reporting, credit repair services, or other personal consumer reports       1.00      0.44      0.61        25\n",
      "                                                             Debt collection       0.80      1.00      0.89        51\n",
      "                                                                Student loan       0.84      0.89      0.86        18\n",
      "\n",
      "                                                                    accuracy                           0.83        99\n",
      "                                                                   macro avg       0.86      0.80      0.79        99\n",
      "                                                                weighted avg       0.86      0.83      0.81        99\n",
      "\n"
     ]
    }
   ],
   "source": [
    "from sklearn.metrics import classification_report\n",
    "y_true_collection = []\n",
    "y_pred_collection = []\n",
    "for idx, output_col in enumerate(output_cols):\n",
    "    y_true = [row[output_col] for _, row in df_test.iterrows()]\n",
    "    y_pred = [classification['classification'][idx]['value'] for classification in inference_response['results']]\n",
    "    assert(len(y_true) == len(y_pred))\n",
    "    y_true_collection.append(y_true)\n",
    "    y_pred_collection.append(y_pred)\n",
    "    print(classification_report(y_true, y_pred))"
   ]
  },
  {
   "cell_type": "code",
   "execution_count": 84,
   "metadata": {
    "scrolled": false
   },
   "outputs": [
    {
     "name": "stdout",
     "output_type": "stream",
     "text": [
      "Returning token from cache\n",
      "Response time: 1424.133 ms\n",
      "Confusion matrix, without normalization\n"
     ]
    },
    {
     "data": {
      "image/png": "[encoded data removed]",
      "text/plain": [
       "<Figure size 1440x1440 with 2 Axes>"
      ]
     },
     "metadata": {
      "needs_background": "light"
     },
     "output_type": "display_data"
    }
   ],
   "source": [
    "model_results = sti.get_model_accuracy(model_id=our_model_id)\n",
    "for idx, (y_true, y_pred) in enumerate(zip(y_true_collection, y_pred_collection)):\n",
    "    fig = plt.figure(figsize=(20,20))\n",
    "    cnf_mtrx = confusion_matrix(y_true, y_pred)\n",
    "    sti_functions.plot(cnf_mtrx, \n",
    "                       classes=model_results[\"validation_results\"][idx][\"confusion_matrix\"][\"labels\"], \n",
    "                       title='Confusion matrix')"
   ]
  },
  {
   "cell_type": "markdown",
   "metadata": {},
   "source": [
    "# Using STI's pre-trained models\n",
    "\n",
    "Apart from building custom models with your own data, STI also provides pre-trained models for sentiment analysis and language detection."
   ]
  },
  {
   "cell_type": "markdown",
   "metadata": {},
   "source": [
    "## Language Detection\n",
    "\n",
    "You can use this to detect the language of text.\n",
    "ISO Language codes of message content will be shown in response"
   ]
  },
  {
   "cell_type": "code",
   "execution_count": 5,
   "metadata": {},
   "outputs": [
    {
     "name": "stdout",
     "output_type": "stream",
     "text": [
      "Getting new token from https://sti-test.authentication.sap.hana.ondemand.com/oauth/token\n",
      "New token expires at 2020-06-25 17:52:26\n",
      "Response time: 838.2239999999999 ms\n"
     ]
    },
    {
     "data": {
      "text/plain": [
       "{'results': [{'detected_language': 'en',\n",
       "   'id': 2001,\n",
       "   'status': 0,\n",
       "   'status_message': 'ok'},\n",
       "  {'detected_language': 'de',\n",
       "   'id': 2002,\n",
       "   'status': 0,\n",
       "   'status_message': 'ok'}]}"
      ]
     },
     "execution_count": 5,
     "metadata": {},
     "output_type": "execute_result"
    }
   ],
   "source": [
    "payload = {\n",
    "    \"business_object\": \"ticket\",\n",
    "    \"messages\": [\n",
    "        {\n",
    "            'id': 2001,\n",
    "            'contents': [\n",
    "                {\n",
    "                    'field': input_cols[0],\n",
    "                    'value': \"I don't like your service\"\n",
    "                }\n",
    "            ]\n",
    "        },\n",
    "        {\n",
    "            'id': 2002,\n",
    "            'contents': [\n",
    "                {\n",
    "                    'field': input_cols[0],\n",
    "                    'value': 'Ich mag deinen Service nicht'\n",
    "                }\n",
    "            ]\n",
    "        }\n",
    "    ],\n",
    "    \"options\": {\n",
    "        \"services\": {\n",
    "            \"detect_language\": True\n",
    "        }\n",
    "    }\n",
    "}\n",
    "inference_response = sti.classify_text(payload)\n",
    "inference_response"
   ]
  },
  {
   "cell_type": "markdown",
   "metadata": {},
   "source": [
    "## Sentiment Analysis\n",
    "\n",
    "Provides sentiment score of the input content ranging from -1 to 1. Highly negative sentiment will have score of -1 and highly positive sentiment will have a score of +1. And 0 may denote a neutral phrase"
   ]
  },
  {
   "cell_type": "code",
   "execution_count": 6,
   "metadata": {},
   "outputs": [
    {
     "name": "stdout",
     "output_type": "stream",
     "text": [
      "Returning token from cache\n",
      "Response time: 2223.458 ms\n"
     ]
    },
    {
     "data": {
      "text/plain": [
       "{'results': [{'id': 2001,\n",
       "   'sentiment': {'overall_score': -0.9},\n",
       "   'status': 0,\n",
       "   'status_message': 'ok'},\n",
       "  {'id': 2002,\n",
       "   'sentiment': {'overall_score': -0.5},\n",
       "   'status': 0,\n",
       "   'status_message': 'ok'}]}"
      ]
     },
     "execution_count": 6,
     "metadata": {},
     "output_type": "execute_result"
    }
   ],
   "source": [
    "payload = {\n",
    "    \"business_object\": \"ticket\",\n",
    "    \"messages\": [\n",
    "        {\n",
    "            'id': 2001,\n",
    "            'contents': [\n",
    "                {\n",
    "                    'field': input_cols[0],\n",
    "                    'value': \"I don't like your service\"\n",
    "                }\n",
    "            ]\n",
    "        },\n",
    "        {\n",
    "            'id': 2002,\n",
    "            'contents': [\n",
    "                {\n",
    "                    'field': input_cols[0],\n",
    "                    'value': 'Ich mag deinen Service nicht'\n",
    "                }\n",
    "            ]\n",
    "        }\n",
    "    ],\n",
    "    \"options\": {\n",
    "        \"services\": {\n",
    "            \"detect_sentiment\": True\n",
    "        }\n",
    "    }\n",
    "}\n",
    "inference_response = sti.classify_text(payload)\n",
    "inference_response"
   ]
  },
  {
   "cell_type": "markdown",
   "metadata": {},
   "source": [
    "## Multiple services in same request.\n",
    "\n",
    "You can request one inference request to do category classification and sentiment analysis."
   ]
  },
  {
   "cell_type": "code",
   "execution_count": 7,
   "metadata": {},
   "outputs": [
    {
     "name": "stdout",
     "output_type": "stream",
     "text": [
      "Returning token from cache\n",
      "Response time: 1853.44 ms\n"
     ]
    },
    {
     "data": {
      "text/plain": [
       "{'results': [{'classification': [{'confidence': 0.5562902688980103,\n",
       "     'field': 'Product',\n",
       "     'value': 'Debt collection'}],\n",
       "   'detected_language': 'en',\n",
       "   'id': 2001,\n",
       "   'sentiment': {'overall_score': -0.9},\n",
       "   'status': 0,\n",
       "   'status_message': 'ok'}]}"
      ]
     },
     "execution_count": 7,
     "metadata": {},
     "output_type": "execute_result"
    }
   ],
   "source": [
    "payload = {\n",
    "    \"business_object\": \"ticket\",\n",
    "    \"messages\": [\n",
    "        {\n",
    "            'id': 2001,\n",
    "            'contents': [\n",
    "                {\n",
    "                    'field': input_cols[0],\n",
    "                    'value': \"I don't like your service\"\n",
    "                }\n",
    "            ]\n",
    "        }\n",
    "    ],\n",
    "    \"options\": {\n",
    "        \"services\": {\n",
    "            \"detect_category\": True,\n",
    "            \"detect_sentiment\": True,\n",
    "            \"detect_language\": True,\n",
    "        }\n",
    "    }\n",
    "}\n",
    "inference_response = sti.classify_text(payload)\n",
    "inference_response"
   ]
  },
  {
   "cell_type": "markdown",
   "metadata": {},
   "source": [
    "## Deactivate model\n",
    "\n",
    "We can deactivate any active models here."
   ]
  },
  {
   "cell_type": "code",
   "execution_count": 29,
   "metadata": {
    "scrolled": false
   },
   "outputs": [],
   "source": [
    "# sti.deactivate_model(model_id=\"\")"
   ]
  },
  {
   "cell_type": "markdown",
   "metadata": {},
   "source": [
    "## Delete model\n",
    "\n",
    "We can delete any unused models here."
   ]
  },
  {
   "cell_type": "code",
   "execution_count": 30,
   "metadata": {},
   "outputs": [],
   "source": [
    "# sti.delete_model(model_id=\"\")"
   ]
  }
 ],
 "metadata": {
  "kernelspec": {
   "display_name": "Python 3",
   "language": "python",
   "name": "python3"
  },
  "language_info": {
   "codemirror_mode": {
    "name": "ipython",
    "version": 3
   },
   "file_extension": ".py",
   "mimetype": "text/x-python",
   "name": "python",
   "nbconvert_exporter": "python",
   "pygments_lexer": "ipython3",
   "version": "3.7.6"
  }
 },
 "nbformat": 4,
 "nbformat_minor": 2
}
