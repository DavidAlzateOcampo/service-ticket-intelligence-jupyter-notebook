{
 "cells": [
  {
   "cell_type": "markdown",
   "metadata": {},
   "source": [
    "# Recommedation Demo\n",
    "\n",
    "In this notebook, we will see how to prepare the data for recommendation, upload the data, start training and do inference."
   ]
  },
  {
   "cell_type": "markdown",
   "metadata": {},
   "source": [
    "### Install pyjwt library if not already installed"
   ]
  },
  {
   "cell_type": "code",
   "execution_count": 55,
   "metadata": {},
   "outputs": [
    {
     "name": "stdout",
     "output_type": "stream",
     "text": [
      "Requirement already satisfied: pyjwt in /Users/i516065/opt/anaconda3/lib/python3.7/site-packages (1.7.1)\r\n"
     ]
    }
   ],
   "source": [
    "!pip install pyjwt"
   ]
  },
  {
   "cell_type": "code",
   "execution_count": 56,
   "metadata": {},
   "outputs": [],
   "source": [
    "import os\n",
    "import pandas as pd\n",
    "from sklearn.model_selection import train_test_split\n",
    "\n",
    "%matplotlib inline\n",
    "import matplotlib.pyplot as plt\n",
    "import requests\n",
    "import base64"
   ]
  },
  {
   "cell_type": "markdown",
   "metadata": {},
   "source": [
    "### Load and prepare data\n",
    "\n",
    "We have a small dataset of service request tickets on complaints received about financial products and services. We will attempt to build a recommendation model that will recommend similiar service request tickets if we get similar questions (e.g. worded differently, but semantically have same meaning)."
   ]
  },
  {
   "cell_type": "markdown",
   "metadata": {},
   "source": [
    "The below code block loads the data from file"
   ]
  },
  {
   "cell_type": "code",
   "execution_count": 57,
   "metadata": {},
   "outputs": [],
   "source": [
    "df = pd.read_csv(\"../datasets/complaint_clean.csv\")"
   ]
  },
  {
   "cell_type": "markdown",
   "metadata": {},
   "source": [
    "### Let's see the data"
   ]
  },
  {
   "cell_type": "code",
   "execution_count": 58,
   "metadata": {
    "scrolled": false
   },
   "outputs": [
    {
     "data": {
      "text/html": [
       "<div>\n",
       "<style scoped>\n",
       "    .dataframe tbody tr th:only-of-type {\n",
       "        vertical-align: middle;\n",
       "    }\n",
       "\n",
       "    .dataframe tbody tr th {\n",
       "        vertical-align: top;\n",
       "    }\n",
       "\n",
       "    .dataframe thead th {\n",
       "        text-align: right;\n",
       "    }\n",
       "</style>\n",
       "<table border=\"1\" class=\"dataframe\">\n",
       "  <thead>\n",
       "    <tr style=\"text-align: right;\">\n",
       "      <th></th>\n",
       "      <th>Product</th>\n",
       "      <th>Sub-product</th>\n",
       "      <th>Issue</th>\n",
       "      <th>Sub-issue</th>\n",
       "      <th>Description</th>\n",
       "      <th>TicketID</th>\n",
       "    </tr>\n",
       "  </thead>\n",
       "  <tbody>\n",
       "    <tr>\n",
       "      <th>0</th>\n",
       "      <td>Credit reporting, credit repair services, or other personal consumer reports</td>\n",
       "      <td>Other personal consumer report</td>\n",
       "      <td>Improper use of your report</td>\n",
       "      <td>Reporting company used your report improperly</td>\n",
       "      <td>On   XXXX   XXXX   XXXX     2015 Barclays Ba nk Delaware placed a hard Inquiry on my   XXXX    Credit Report. The report is  two yea rs old and needs to be removed and furthermore I never provided authorization for the inquiry. I do not have any open accounts with this company so this inquiry needs to be removed.</td>\n",
       "      <td>8f634167-1466-41b6-903e-ae8406d95232</td>\n",
       "    </tr>\n",
       "    <tr>\n",
       "      <th>1</th>\n",
       "      <td>Debt collection</td>\n",
       "      <td>Credit card</td>\n",
       "      <td>Communication tactics</td>\n",
       "      <td>Frequent or repeated calls</td>\n",
       "      <td>I have been receiving numerous calls from Synchrony Bank from XXXX XXXX to XXXX XXXX. They are calling 20 plus times a day. I have repeatedly asked them to stop calling and have explained to them that I will pay them when I have money. I have asked for a cease and desist notification to be put on the account under my social security number and they stated that they will notate the account and then 5 minutes later they call back. I have advised them that the account should be notated and that they need to stop calling.</td>\n",
       "      <td>863efe9f-1452-431e-a5e7-f1756489ec69</td>\n",
       "    </tr>\n",
       "    <tr>\n",
       "      <th>2</th>\n",
       "      <td>Student loan</td>\n",
       "      <td>Federal student loan servicing</td>\n",
       "      <td>Dealing with my lender or servicer</td>\n",
       "      <td>Received bad information about my loan</td>\n",
       "      <td>I have been on economic deferment since I left college and my student loans are through XXXX XXXX XXXX, XXXX and Salle Mae. All of my loans are currently in good standing except for Salle Mae. They sent my loans to a secondary company that I was never able to call or contact. Every number I was given from the collection agencies and from XXXX to reach the secondary agency just lead to a phone number that listed offers for XXXX gift cards and XXXX services and then you could never get to an agent to try and find out why the debt had been sent there. I filed a dispute with a lawyer through XXXX services, but was never contacted again about if anything had come from it. Now there are XXXX loans in collections and they took my last years tax returns. Any attempt to file anything with Salle Mae was always difficult and I filed my documentation through FAFSA. My biggest concern is that SallyeMae had a secondary company it used that was unreachable and then they just had XXXX send my loans to a collection agency although I had filed forms with FAFSA for economic deferment and now they have gone so far the companies will not pull them back and the collection agencies do n't recognize economic deferment. I get countless calls a day from autodialers that do not leave voice mails and my tax returns are going to be taken again next year. Prior to this they in 2008 I was attending school and they were calling me telling me I had to repay my student loans although I was in school and was exempt.</td>\n",
       "      <td>bf9b849b-c1cf-44b8-9f40-4a44a7c7cf86</td>\n",
       "    </tr>\n",
       "    <tr>\n",
       "      <th>3</th>\n",
       "      <td>Credit reporting, credit repair services, or other personal consumer reports</td>\n",
       "      <td>Credit reporting</td>\n",
       "      <td>Improper use of your report</td>\n",
       "      <td>Credit inquiries on your report that you don't recognize</td>\n",
       "      <td>XXXX  and Equifax will not remove unauthorized inquiries even when fraud alert was placed on report.</td>\n",
       "      <td>2d6a58b3-efc3-4ea8-9b2c-a3fc93364db0</td>\n",
       "    </tr>\n",
       "    <tr>\n",
       "      <th>4</th>\n",
       "      <td>Debt collection</td>\n",
       "      <td>Credit card</td>\n",
       "      <td>False statements or representation</td>\n",
       "      <td>Attempted to collect wrong amount</td>\n",
       "      <td>XXXX XXXX XXXX XXXX XXXX ( serviced by XXXX XXXX XXXX ) purchased a debt that originated with Citibank South Dakota. Citibank South Dakota was merged with Citibank NA as of XXXX/XXXX/XXXX - coincidently the same time period that the debt shows as being charged off ( XXXX/XXXX/XXXX ). My XXXX report dated XXXX/XXXX/XXXX shows the account being reported with XXXX will fall off on XXXX and XXXX XXXX it shows it will be on my report until XXXX. This debt had a 1st delinquency date in early XXXX, with a charge off date with Citibank South Dakota much earlier than when reported by Citibank NA. I disagreed with the balance that XXXX is reporting, in addition to the dates provided on the reports. I have disputed this debt with all three credit bureaus XXXX, XXXX and XXXX XXXX, not once but twice, with the credit bureaus responding that the debt has been researched and no changes to the report. Then on XXXX/XXXX/XXXX, a new merged credit report was pulled showing all XXXX credit bureaus - the XXXX debt is now reflecting a last delinquent date of XXXX, a last payment date of XXXX, and a last activity as of XXXX. This is completely different information that was being previously reported and/or what is reflected on their letter they provided to me. It appears that they are trying to re-set the date - or at the very most change the time period of how long it will continue to be reported on my credit bureaus. I have attached copies of all documents mentioned in this complaint. I would like XXXX to report correct information to all XXXX credit bureaus, or remove the debt from immediately from all XXXX reports. Thank you for your assistance</td>\n",
       "      <td>58e5c75c-98b3-4876-9f0a-16cf7236e161</td>\n",
       "    </tr>\n",
       "  </tbody>\n",
       "</table>\n",
       "</div>"
      ],
      "text/plain": [
       "                                                                        Product  \\\n",
       "0  Credit reporting, credit repair services, or other personal consumer reports   \n",
       "1  Debt collection                                                                \n",
       "2  Student loan                                                                   \n",
       "3  Credit reporting, credit repair services, or other personal consumer reports   \n",
       "4  Debt collection                                                                \n",
       "\n",
       "                      Sub-product                               Issue  \\\n",
       "0  Other personal consumer report  Improper use of your report          \n",
       "1  Credit card                     Communication tactics                \n",
       "2  Federal student loan servicing  Dealing with my lender or servicer   \n",
       "3  Credit reporting                Improper use of your report          \n",
       "4  Credit card                     False statements or representation   \n",
       "\n",
       "                                                  Sub-issue  \\\n",
       "0  Reporting company used your report improperly              \n",
       "1  Frequent or repeated calls                                 \n",
       "2  Received bad information about my loan                     \n",
       "3  Credit inquiries on your report that you don't recognize   \n",
       "4  Attempted to collect wrong amount                          \n",
       "\n",
       "                                                                                                                                                                                                                                                                                                                                                                                                                                                                                                                                                                                                                                                                                                                                                                                                                                                                                                                                                                                                                                                                                                                                                                                                                                                                                                                                                                                                                                                                                                                                                                                                                                                                                                             Description  \\\n",
       "0  On   XXXX   XXXX   XXXX     2015 Barclays Ba nk Delaware placed a hard Inquiry on my   XXXX    Credit Report. The report is  two yea rs old and needs to be removed and furthermore I never provided authorization for the inquiry. I do not have any open accounts with this company so this inquiry needs to be removed.                                                                                                                                                                                                                                                                                                                                                                                                                                                                                                                                                                                                                                                                                                                                                                                                                                                                                                                                                                                                                                                                                                                                                                                                                                                                                                                                                                                              \n",
       "1  I have been receiving numerous calls from Synchrony Bank from XXXX XXXX to XXXX XXXX. They are calling 20 plus times a day. I have repeatedly asked them to stop calling and have explained to them that I will pay them when I have money. I have asked for a cease and desist notification to be put on the account under my social security number and they stated that they will notate the account and then 5 minutes later they call back. I have advised them that the account should be notated and that they need to stop calling.                                                                                                                                                                                                                                                                                                                                                                                                                                                                                                                                                                                                                                                                                                                                                                                                                                                                                                                                                                                                                                                                                                                                                                             \n",
       "2  I have been on economic deferment since I left college and my student loans are through XXXX XXXX XXXX, XXXX and Salle Mae. All of my loans are currently in good standing except for Salle Mae. They sent my loans to a secondary company that I was never able to call or contact. Every number I was given from the collection agencies and from XXXX to reach the secondary agency just lead to a phone number that listed offers for XXXX gift cards and XXXX services and then you could never get to an agent to try and find out why the debt had been sent there. I filed a dispute with a lawyer through XXXX services, but was never contacted again about if anything had come from it. Now there are XXXX loans in collections and they took my last years tax returns. Any attempt to file anything with Salle Mae was always difficult and I filed my documentation through FAFSA. My biggest concern is that SallyeMae had a secondary company it used that was unreachable and then they just had XXXX send my loans to a collection agency although I had filed forms with FAFSA for economic deferment and now they have gone so far the companies will not pull them back and the collection agencies do n't recognize economic deferment. I get countless calls a day from autodialers that do not leave voice mails and my tax returns are going to be taken again next year. Prior to this they in 2008 I was attending school and they were calling me telling me I had to repay my student loans although I was in school and was exempt.                                                                                                                                                      \n",
       "3  XXXX  and Equifax will not remove unauthorized inquiries even when fraud alert was placed on report.                                                                                                                                                                                                                                                                                                                                                                                                                                                                                                                                                                                                                                                                                                                                                                                                                                                                                                                                                                                                                                                                                                                                                                                                                                                                                                                                                                                                                                                                                                                                                                                                                    \n",
       "4  XXXX XXXX XXXX XXXX XXXX ( serviced by XXXX XXXX XXXX ) purchased a debt that originated with Citibank South Dakota. Citibank South Dakota was merged with Citibank NA as of XXXX/XXXX/XXXX - coincidently the same time period that the debt shows as being charged off ( XXXX/XXXX/XXXX ). My XXXX report dated XXXX/XXXX/XXXX shows the account being reported with XXXX will fall off on XXXX and XXXX XXXX it shows it will be on my report until XXXX. This debt had a 1st delinquency date in early XXXX, with a charge off date with Citibank South Dakota much earlier than when reported by Citibank NA. I disagreed with the balance that XXXX is reporting, in addition to the dates provided on the reports. I have disputed this debt with all three credit bureaus XXXX, XXXX and XXXX XXXX, not once but twice, with the credit bureaus responding that the debt has been researched and no changes to the report. Then on XXXX/XXXX/XXXX, a new merged credit report was pulled showing all XXXX credit bureaus - the XXXX debt is now reflecting a last delinquent date of XXXX, a last payment date of XXXX, and a last activity as of XXXX. This is completely different information that was being previously reported and/or what is reflected on their letter they provided to me. It appears that they are trying to re-set the date - or at the very most change the time period of how long it will continue to be reported on my credit bureaus. I have attached copies of all documents mentioned in this complaint. I would like XXXX to report correct information to all XXXX credit bureaus, or remove the debt from immediately from all XXXX reports. Thank you for your assistance   \n",
       "\n",
       "                               TicketID  \n",
       "0  8f634167-1466-41b6-903e-ae8406d95232  \n",
       "1  863efe9f-1452-431e-a5e7-f1756489ec69  \n",
       "2  bf9b849b-c1cf-44b8-9f40-4a44a7c7cf86  \n",
       "3  2d6a58b3-efc3-4ea8-9b2c-a3fc93364db0  \n",
       "4  58e5c75c-98b3-4876-9f0a-16cf7236e161  "
      ]
     },
     "execution_count": 58,
     "metadata": {},
     "output_type": "execute_result"
    }
   ],
   "source": [
    "df.head()"
   ]
  },
  {
   "cell_type": "markdown",
   "metadata": {},
   "source": [
    "### Let's select the input and output mappings for training\n",
    "\n",
    "The mapping describes which columns in the upload file should be used as sample input and which ones are to be used as the classification output that the model should learn."
   ]
  },
  {
   "cell_type": "code",
   "execution_count": 59,
   "metadata": {},
   "outputs": [],
   "source": [
    "input_cols = ['Description']\n",
    "output_cols = ['TicketID', 'Description']\n",
    "all_cols = input_cols + output_cols"
   ]
  },
  {
   "cell_type": "markdown",
   "metadata": {},
   "source": [
    "# STI REST Endpoints\n",
    "\n",
    "The STI service can be accessed and controlled through REST endpoint.\n",
    "Documentation can be found in the following link: https://help.sap.com/viewer/product/SERVICE_TICKET_INTELLIGENCE"
   ]
  },
  {
   "cell_type": "markdown",
   "metadata": {},
   "source": [
    "## Subscription and Authentication\n",
    "\n",
    "Now we are ready to train a model using the Service Ticket Intelligence API. This requires a valid subscription to the STI API.\n",
    "\n",
    "Note: Update the values for `service url`, `uaa url`, `client id` and `client secret` in the config file `sti_config.ini`. This config file is placed one directory above this notebook. These values will be available in `service_keys` of your STI instance in the cloud foundry cockpit."
   ]
  },
  {
   "cell_type": "code",
   "execution_count": 60,
   "metadata": {},
   "outputs": [],
   "source": [
    "import configparser\n",
    "from pathlib import Path\n",
    "import sys\n",
    "\n",
    "sys.path.append(\"..\")\n",
    "from sti_functions import STIFunctions, get_connection_object"
   ]
  },
  {
   "cell_type": "code",
   "execution_count": 61,
   "metadata": {},
   "outputs": [],
   "source": [
    "STI_BASE_DIR = Path.cwd().parent\n",
    "config_file_path = STI_BASE_DIR / 'sti_config.ini'\n",
    "\n",
    "connection = get_connection_object(config_file=config_file_path)\n",
    "sti = STIFunctions(connection)"
   ]
  },
  {
   "cell_type": "markdown",
   "metadata": {},
   "source": [
    "## List models\n",
    "\n",
    "Now lets do list model call using this python function to view all the models in this account"
   ]
  },
  {
   "cell_type": "code",
   "execution_count": 62,
   "metadata": {
    "scrolled": false
   },
   "outputs": [
    {
     "name": "stdout",
     "output_type": "stream",
     "text": [
      "Returning token from cache\n",
      "Response time: 1186.0159999999998 ms\n"
     ]
    },
    {
     "data": {
      "text/plain": [
       "{'results': [{'business_object': 'ticket',\n",
       "   'language': 'en',\n",
       "   'model_id': ['aada667d0e384a63bf0cad43d88f3b81',\n",
       "    'f1cead0633a44e32a449cf285b542adf',\n",
       "    '2eb7e7c1b6684c238083f8a93a140138',\n",
       "    '522e3730af304c43a25d18b8905d89f9',\n",
       "    '63689c91793145a780e482682aa525f2',\n",
       "    'a3177cf70fec4705bfb6839bc0b30636',\n",
       "    '416c46992bc74920832106eda95255a0',\n",
       "    '8d1145c3d94a44ceb3d6cae8bdee14a3',\n",
       "    '8b5a8ef24966450bb8b4c08d6622ef94',\n",
       "    '3616e94d85d54fd890d2f1bd03ac61fe',\n",
       "    'fe5b0ba4a99649668b0e9ba36e466044',\n",
       "    'cc078a539d6a433a92f0ac0a2fb445d2',\n",
       "    '8d62dbfd0e3043e5a16928190c8f965f',\n",
       "    'e16b7677bb3d4e339716317854c74864'],\n",
       "   'type': 'classification'},\n",
       "  {'business_object': 'ticket',\n",
       "   'language': 'en',\n",
       "   'model_id': ['41932214b9a74aa3949824cc527a4fb2',\n",
       "    '3c086206ddbb4a6081c171ac5ab447d3',\n",
       "    'e0477c0ec4844fdab0848547e3079b28'],\n",
       "   'type': 'recommendation'},\n",
       "  {'business_object': 'ticket',\n",
       "   'language': 'pt',\n",
       "   'model_id': ['42cf1bf4074f461cba7831fa19c364c7'],\n",
       "   'type': 'classification'}],\n",
       " 'status': 0,\n",
       " 'status_message': 'ok'}"
      ]
     },
     "execution_count": 62,
     "metadata": {},
     "output_type": "execute_result"
    }
   ],
   "source": [
    "sti.list_models()"
   ]
  },
  {
   "cell_type": "markdown",
   "metadata": {},
   "source": [
    "### Let's check if we need to delete any unused model\n",
    "Based on the model list above, ensure that the number of models does not exceed 20. Otherwise, we need to delete some unused model."
   ]
  },
  {
   "cell_type": "code",
   "execution_count": 63,
   "metadata": {},
   "outputs": [],
   "source": [
    "# sti.delete_model(\"b3e0da989393450ba4b66e637722034a\")"
   ]
  },
  {
   "cell_type": "markdown",
   "metadata": {},
   "source": [
    "## File upload\n",
    "\n",
    "This process will take a few minutes to complete depending on the file size. If file upload is successful, the response text will contain a model id - an UUID identifier which we can use as a reference to the uploaded training file."
   ]
  },
  {
   "cell_type": "code",
   "execution_count": 64,
   "metadata": {},
   "outputs": [
    {
     "name": "stdout",
     "output_type": "stream",
     "text": [
      "Returning token from cache\n",
      "Response time: 91987.321 ms\n"
     ]
    },
    {
     "data": {
      "text/plain": [
       "{'business_object': 'ticket',\n",
       " 'desc': 'Complaint data for recommendation',\n",
       " 'disabled_category_class': [],\n",
       " 'enabled_category_class': [],\n",
       " 'extracted_input': [{'field': 'Description', 'type': 'str'}],\n",
       " 'extracted_output': [{'field': 'TicketID'}, {'field': 'Description'}],\n",
       " 'file_upload_timestamp': '2020-06-09 08:15:37 UTC',\n",
       " 'incremental': False,\n",
       " 'incremental_possible': True,\n",
       " 'language': 'en',\n",
       " 'model_id': '96fc1022e1094bc696bdc19b6ecac97a',\n",
       " 'model_status': 'NEW',\n",
       " 'new_category_class': [],\n",
       " 'records_count': 9833,\n",
       " 'status': 0,\n",
       " 'status_message': 'ok',\n",
       " 'tabulations_count': 0,\n",
       " 'type': 'recommendation'}"
      ]
     },
     "execution_count": 64,
     "metadata": {},
     "output_type": "execute_result"
    }
   ],
   "source": [
    "payload = {\n",
    "    \"scenario\": {\n",
    "        \"desc\": \"Complaint data for recommendation\",\n",
    "        \"type\": \"recommendation\",\n",
    "        \"language\": \"en\",\n",
    "        \"business_object\": \"ticket\",\n",
    "    },\n",
    "    \"mapping\": {\n",
    "        \"input\": input_cols,\n",
    "        \"output\": output_cols\n",
    "    },\n",
    "    \"training\": {\n",
    "        \"file\": \"{}\".format(\n",
    "            base64.b64encode(df.to_csv(index=False).encode(\"utf-8\")).decode(\"utf-8\")\n",
    "        )\n",
    "    },\n",
    "}\n",
    "response = sti.file_upload(payload)\n",
    "payload = {}\n",
    "our_model_id = response.get(\"model_id\")\n",
    "response"
   ]
  },
  {
   "cell_type": "markdown",
   "metadata": {},
   "source": [
    "## Start training on uploaded file\n",
    "\n",
    "Take the model id from file upload response text and pass it when in starting the model training"
   ]
  },
  {
   "cell_type": "code",
   "execution_count": 65,
   "metadata": {
    "scrolled": false
   },
   "outputs": [
    {
     "name": "stdout",
     "output_type": "stream",
     "text": [
      "Getting new token from https://sti-test.authentication.sap.hana.ondemand.com/oauth/token\n",
      "New token expires at 2020-06-09 19:08:19\n",
      "Response time: 1979.402 ms\n"
     ]
    },
    {
     "data": {
      "text/plain": [
       "{'language': 'en',\n",
       " 'model_id': '96fc1022e1094bc696bdc19b6ecac97a',\n",
       " 'status': 0,\n",
       " 'status_message': 'ok'}"
      ]
     },
     "execution_count": 65,
     "metadata": {},
     "output_type": "execute_result"
    }
   ],
   "source": [
    "# our_model_id = \"e44816c7732944288d85b890373eb5f4\"\n",
    "sti.start_model_training(model_id=our_model_id)"
   ]
  },
  {
   "cell_type": "markdown",
   "metadata": {},
   "source": [
    "## Wait for training to succeed\n",
    "\n",
    "After starting the model training, do a get model status and check if model status is `READY`\n",
    "\n",
    "The model status transitions from `NEW` to `PENDING_TRAINING` once training is submitted and will further transition to `IN_TRAINING` and finally `READY` when training succeeds"
   ]
  },
  {
   "cell_type": "code",
   "execution_count": 68,
   "metadata": {},
   "outputs": [
    {
     "name": "stdout",
     "output_type": "stream",
     "text": [
      "Returning token from cache\n",
      "Response time: 1569.389 ms\n",
      "Model status: READY\n"
     ]
    }
   ],
   "source": [
    "status = sti.get_model_status(model_id=our_model_id)\n",
    "print(\"Model status: {}\".format(status.get('model_status')))"
   ]
  },
  {
   "cell_type": "markdown",
   "metadata": {},
   "source": [
    "Wait for model status to be `READY` before proceeding to next step. This will take upto 10-20 mins from the training submission time. Repeatedly run the above cell to get the latest model status"
   ]
  },
  {
   "cell_type": "markdown",
   "metadata": {},
   "source": [
    "Once the model status is `READY` proceed to next step."
   ]
  },
  {
   "cell_type": "markdown",
   "metadata": {},
   "source": [
    "## Model recall rate\n",
    "\n",
    "As this is an unsupervised model, we will retrieve the recall rate once training is completed and status becomes ready."
   ]
  },
  {
   "cell_type": "code",
   "execution_count": 69,
   "metadata": {},
   "outputs": [
    {
     "name": "stdout",
     "output_type": "stream",
     "text": [
      "Returning token from cache\n",
      "Response time: 1079.6090000000002 ms\n"
     ]
    },
    {
     "data": {
      "text/plain": [
       "{'Recall': [{'language': 'en', 'recall_rate': 100.0},\n",
       "  {'language': 'de', 'recall_rate': 100.0},\n",
       "  {'language': 'pl', 'recall_rate': 100.0}],\n",
       " 'Recall@10': 100.0,\n",
       " 'business_object': 'ticket',\n",
       " 'desc': 'Complaint data for recommendation',\n",
       " 'disabled_category_class': [],\n",
       " 'enabled_category_class': [],\n",
       " 'extracted_input': [{'field': 'Description', 'type': 'str'}],\n",
       " 'extracted_output': [{'field': 'TicketID'}, {'field': 'Description'}],\n",
       " 'file_upload_timestamp': '2020-06-09 08:15:37 UTC',\n",
       " 'incremental': False,\n",
       " 'incremental_possible': True,\n",
       " 'language': 'en',\n",
       " 'language_mix': ['en', 'de', 'pl'],\n",
       " 'model_id': '96fc1022e1094bc696bdc19b6ecac97a',\n",
       " 'model_status': 'READY',\n",
       " 'new_category_class': [],\n",
       " 'records_count': 9833,\n",
       " 'status': 0,\n",
       " 'status_message': 'ok',\n",
       " 'tabulations_count': 0,\n",
       " 'training_finish_timestamp': '2020-06-09 10:42:28 UTC',\n",
       " 'training_start_timestamp': '2020-06-09 10:40:35 UTC',\n",
       " 'training_submit_timestamp': '2020-06-09 10:38:20 UTC',\n",
       " 'type': 'recommendation'}"
      ]
     },
     "execution_count": 69,
     "metadata": {},
     "output_type": "execute_result"
    }
   ],
   "source": [
    "# our_model_id = \"cc078a539d6a433a92f0ac0a2fb445d2\"\n",
    "status = sti.get_model_status(model_id=our_model_id)\n",
    "status"
   ]
  },
  {
   "cell_type": "markdown",
   "metadata": {},
   "source": [
    "## Activate the model\n",
    "\n",
    "Once you are satisfied with the results, model needs to activated before inference can be run on"
   ]
  },
  {
   "cell_type": "code",
   "execution_count": 70,
   "metadata": {},
   "outputs": [
    {
     "name": "stdout",
     "output_type": "stream",
     "text": [
      "Returning token from cache\n",
      "Response time: 1163.089 ms\n"
     ]
    },
    {
     "data": {
      "text/plain": [
       "{'model_id': '96fc1022e1094bc696bdc19b6ecac97a',\n",
       " 'status': 0,\n",
       " 'status_message': 'ok'}"
      ]
     },
     "execution_count": 70,
     "metadata": {},
     "output_type": "execute_result"
    }
   ],
   "source": [
    "sti.activate_model(model_id=our_model_id)"
   ]
  },
  {
   "cell_type": "markdown",
   "metadata": {},
   "source": [
    "## Wait for activation\n",
    "\n",
    "Wait till model status transition from `READY` to `LOADING` to `ACTIVE`"
   ]
  },
  {
   "cell_type": "code",
   "execution_count": 71,
   "metadata": {
    "scrolled": true
   },
   "outputs": [
    {
     "name": "stdout",
     "output_type": "stream",
     "text": [
      "Returning token from cache\n",
      "Response time: 1078.79 ms\n",
      "Model status: ACTIVE\n"
     ]
    }
   ],
   "source": [
    "status = sti.get_model_status(model_id=our_model_id)\n",
    "print(\"Model status: {}\".format(status.get('model_status')))"
   ]
  },
  {
   "cell_type": "markdown",
   "metadata": {},
   "source": [
    "It takes up to 10 - 15 minutes for the model status to transition from `READY` -> `LOADING` -> `ACTIVE`"
   ]
  },
  {
   "cell_type": "markdown",
   "metadata": {},
   "source": [
    "## Let's send some inference request\n",
    "\n",
    "Let's pick one of the data from training dataset"
   ]
  },
  {
   "cell_type": "code",
   "execution_count": 72,
   "metadata": {},
   "outputs": [
    {
     "data": {
      "text/plain": [
       "Product        Student loan                                                                                                                                                                                                                                                                                                                                                                                                                                                                                                                                                                                                                                                                                                                                                                                                                                                                                                                                                                                                                                                                                                                                                                                                                                                                                                                                                                    \n",
       "Sub-product    Federal student loan servicing                                                                                                                                                                                                                                                                                                                                                                                                                                                                                                                                                                                                                                                                                                                                                                                                                                                                                                                                                                                                                                                                                                                                                                                                                                                                                                                                                  \n",
       "Issue          Dealing with my lender or servicer                                                                                                                                                                                                                                                                                                                                                                                                                                                                                                                                                                                                                                                                                                                                                                                                                                                                                                                                                                                                                                                                                                                                                                                                                                                                                                                                              \n",
       "Sub-issue      Trouble with how payments are handled                                                                                                                                                                                                                                                                                                                                                                                                                                                                                                                                                                                                                                                                                                                                                                                                                                                                                                                                                                                                                                                                                                                                                                                                                                                                                                                                           \n",
       "Description    As the result of frequent selling of the loans and changes in loan servicers, several of my student loans have unresolved inaccuracies on my credit reports. Please do not forward this to the Department of Education Ombudsman as they were not helpful on a previous complaint on this matter. Here are the details : 1. My XXXX account XXXX continues to inaccurately show as paid 60-days late without the requisite 30-days late payment notation the prior month ( see attached copies of credit report ). \\n2. My ACS/XXXX accounts XXXX XXXX, XXXX XXXX and XXXX XXXX continue to inaccurately show as paid 60-days late without the requisite 30-days past due notation the prior month. Also, data is missing for XXXX of the XXXX reporting months on the XXXX accounts casting serious doubt on the accuracy of the data ( see attached copies of credit report ). \\n3. My XXXX accounts XXXX, XXXX and XXXX continue to inaccurately show as paid 90-days late without the requisite XXXX and 60-days past due notations the prior months. Also, data is missing for XXXX of the XXXX reporting months on the XXXX accounts casting serious doubt on the accuracy of the data ( see attached copies of credit report ). \\n4. Finally, no data in many reporting months is negatively affecting my ratio of number of late payments to number of on-time payments.\n",
       "TicketID       fb1524cc-1681-45a4-b81d-123bb4e2bed5                                                                                                                                                                                                                                                                                                                                                                                                                                                                                                                                                                                                                                                                                                                                                                                                                                                                                                                                                                                                                                                                                                                                                                                                                                                                                                                                            \n",
       "Name: 100, dtype: object"
      ]
     },
     "execution_count": 72,
     "metadata": {},
     "output_type": "execute_result"
    }
   ],
   "source": [
    "df.iloc[100]"
   ]
  },
  {
   "cell_type": "markdown",
   "metadata": {},
   "source": [
    "Reword the question and send the inference request. `field` should match that of the input column. Response should closest question which of might be same as our original question"
   ]
  },
  {
   "cell_type": "code",
   "execution_count": 73,
   "metadata": {
    "scrolled": false
   },
   "outputs": [
    {
     "name": "stdout",
     "output_type": "stream",
     "text": [
      "Returning token from cache\n",
      "Response time: 3184.2980000000002 ms\n"
     ]
    },
    {
     "data": {
      "text/plain": [
       "{'results': [{'detected_language': 'en',\n",
       "   'id': 1,\n",
       "   'recommendation': [{'score': 0.21,\n",
       "     'solutions': [{'field': 'TicketID',\n",
       "       'value': '142d369b-f6c2-4f2a-b218-f780796901a8'},\n",
       "      {'field': 'Description',\n",
       "       'value': 'I can not understand why I have to pay American Education Services {$17000.00} for  XXXX  {$3100.00} private student loans. I pay {$81.00} a month, and the balance keeps increasing. I am on  XXXX  and just received a notice from AES that the interest rate has changed, therefore the payment willl increase from {$81.00} per month to {$83.00} and that when the lo an ( s ) is  paid in full, I would have paid almost {$17000.00}. Is this a payday loan?'}]},\n",
       "    {'score': 0.1,\n",
       "     'solutions': [{'field': 'TicketID',\n",
       "       'value': '836b1731-249a-4c7e-a3b5-07347770f9cf'},\n",
       "      {'field': 'Description',\n",
       "       'value': 'I received my first student loan more than 30 years ago, and my last disbursement was on XX/XX/1991. I have been paying on them off and on since then. My loans have been consolidated multiple times, but the interest rate is still around 8 %. I do not think the data I downloaded is correct. Student Total All Loans Outstanding Principal : {$140000.00} Student Total All Loans Outstanding Interest : {$19000.00} Can someone please review it?'}]}],\n",
       "   'status': 0,\n",
       "   'status_message': 'ok'}]}"
      ]
     },
     "execution_count": 73,
     "metadata": {},
     "output_type": "execute_result"
    }
   ],
   "source": [
    "inference_payload = {\n",
    "    \"business_object\": \"ticket\",\n",
    "    \"messages\": [],\n",
    "    \"options\": {\n",
    "        \"recommendation_top_k\": 2\n",
    "    }\n",
    "}\n",
    "inference_payload['messages'].append(\n",
    "    {\n",
    "        'id': 1,\n",
    "        'contents': [\n",
    "            {\n",
    "                'field': 'Description',\n",
    "                'value': 'Accuracy of student loans'\n",
    "            }\n",
    "        ]\n",
    "    }\n",
    ")\n",
    "inference_response = sti.recommend(data_payload=inference_payload)\n",
    "inference_response"
   ]
  },
  {
   "cell_type": "markdown",
   "metadata": {},
   "source": [
    "## Deactivate model\n",
    "\n",
    "We can deactivate any active models here."
   ]
  },
  {
   "cell_type": "code",
   "execution_count": 20,
   "metadata": {},
   "outputs": [],
   "source": [
    "# sti.deactivate_model(model_id=\"\")"
   ]
  },
  {
   "cell_type": "markdown",
   "metadata": {},
   "source": [
    "## Delete model\n",
    "\n",
    "We can delete any unused models here."
   ]
  },
  {
   "cell_type": "code",
   "execution_count": 21,
   "metadata": {
    "scrolled": true
   },
   "outputs": [],
   "source": [
    "# sti.delete_model(model_id=\"\")"
   ]
  }
 ],
 "metadata": {
  "kernelspec": {
   "display_name": "Python 3",
   "language": "python",
   "name": "python3"
  },
  "language_info": {
   "codemirror_mode": {
    "name": "ipython",
    "version": 3
   },
   "file_extension": ".py",
   "mimetype": "text/x-python",
   "name": "python",
   "nbconvert_exporter": "python",
   "pygments_lexer": "ipython3",
   "version": "3.7.6"
  }
 },
 "nbformat": 4,
 "nbformat_minor": 2
}
